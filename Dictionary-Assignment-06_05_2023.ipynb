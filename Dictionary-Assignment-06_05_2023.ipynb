{
 "cells": [
  {
   "cell_type": "code",
   "execution_count": 27,
   "id": "0df2bf25",
   "metadata": {},
   "outputs": [
    {
     "name": "stdout",
     "output_type": "stream",
     "text": [
      "{'Name': 'Narasimhan.G'}\n"
     ]
    }
   ],
   "source": [
    "dic={}\n",
    "dic['Name']='Narasimhan.G'\n",
    "print(dic)"
   ]
  },
  {
   "cell_type": "code",
   "execution_count": 28,
   "id": "653aa43c",
   "metadata": {},
   "outputs": [
    {
     "name": "stdout",
     "output_type": "stream",
     "text": [
      "{'Name': 'Narasimhan.G', 'Age': 38, 'Company': 'Privat', 'Designation': 'Associate Executive', 'Role': 'Release Manager'}\n"
     ]
    }
   ],
   "source": [
    "dic.update({'Age':38,'Company':'Privat','Designation':'Associate Executive','Role':'Release Manager'})\n",
    "print(dic)"
   ]
  },
  {
   "cell_type": "code",
   "execution_count": 16,
   "id": "bbb39455",
   "metadata": {},
   "outputs": [
    {
     "name": "stdout",
     "output_type": "stream",
     "text": [
      "My Name is: Narasimhan.G\n",
      "Company: Private\n",
      "Designation: Associate Executive\n",
      "Role: Release Manager\n"
     ]
    }
   ],
   "source": [
    "dic.update({'Age':38,\n",
    "            'Comp':'Private',\n",
    "            'Desig':'Associate Executive',\n",
    "            'Role':'Release Manager'})\n",
    "print('My Name is :',dic['Name'])\n",
    "print('Company    :',dic['Comp'])\n",
    "print('Designation:',dic['Desig'])\n",
    "print('Role       :',dic['Role'])"
   ]
  },
  {
   "cell_type": "code",
   "execution_count": 32,
   "id": "6ad7eced",
   "metadata": {},
   "outputs": [
    {
     "name": "stdout",
     "output_type": "stream",
     "text": [
      "{'Name': 'Narasimhan.G', 'Age': 38, 'Company': 'Privat', 'Role': 'Release Manager', 'Sal': 123456, 'Work': 'Chennai', 'Comp': 'Private', 'Desig': 'Associate Executive', 'Exp': 16}\n"
     ]
    }
   ],
   "source": [
    "dic.update({'Exp':16})\n",
    "dic.pop('Designation')\n",
    "print(dic)"
   ]
  },
  {
   "cell_type": "code",
   "execution_count": 23,
   "id": "81897932",
   "metadata": {},
   "outputs": [
    {
     "name": "stdout",
     "output_type": "stream",
     "text": [
      "My Name is          : Narasimhan.G\n",
      "Company             : Private\n",
      "Designation         : Associate Executive\n",
      "Role                : Release Manager\n",
      "Experience(in years): 16\n"
     ]
    }
   ],
   "source": [
    "dic.update({'Exp':16,'Comp':'Private','Desig':'Associate Executive',})\n",
    "print('My Name is          :',dic['Name'])\n",
    "print('Company             :',dic['Comp'])\n",
    "print('Designation         :',dic['Desig'])\n",
    "print('Role                :',dic['Role'])\n",
    "print('Experience(in years):',dic['Exp'])"
   ]
  },
  {
   "cell_type": "code",
   "execution_count": 34,
   "id": "eadb1470",
   "metadata": {},
   "outputs": [
    {
     "name": "stdout",
     "output_type": "stream",
     "text": [
      "My Name is          : Narasimhan.G\n",
      "Company             : Private\n",
      "Designation         : Associate Executive\n",
      "Role                : Release Manager\n",
      "Experience(in years): 16\n",
      "Salary              : 123456\n",
      "Work Place          : Chennai\n"
     ]
    }
   ],
   "source": [
    "dic.update({'Sal':123456,'Work':'Chennai'})\n",
    "print('My Name is          :',dic['Name'])\n",
    "print('Company             :',dic['Comp'])\n",
    "print('Designation         :',dic['Desig'])\n",
    "print('Role                :',dic['Role'])\n",
    "print('Experience(in years):',dic['Exp'])\n",
    "print('Salary              :',dic['Sal'])\n",
    "print('Work Place          :',dic['Work'])"
   ]
  },
  {
   "cell_type": "code",
   "execution_count": 35,
   "id": "916ea94b",
   "metadata": {},
   "outputs": [
    {
     "name": "stdout",
     "output_type": "stream",
     "text": [
      "My Name is          : Narasimhan.G\n",
      "Company             : Private\n",
      "Designation         : Associate Executive\n",
      "Role                : Release Manager\n",
      "Experience(in years): 16\n",
      "Work Place          : Chennai\n"
     ]
    }
   ],
   "source": [
    "del dic['Sal']\n",
    "print('My Name is          :',dic['Name'])\n",
    "print('Company             :',dic['Comp'])\n",
    "print('Designation         :',dic['Desig'])\n",
    "print('Role                :',dic['Role'])\n",
    "print('Experience(in years):',dic['Exp'])\n",
    "print('Work Place          :',dic['Work'])"
   ]
  },
  {
   "cell_type": "code",
   "execution_count": 37,
   "id": "aab06273",
   "metadata": {},
   "outputs": [
    {
     "name": "stdout",
     "output_type": "stream",
     "text": [
      "{}\n"
     ]
    }
   ],
   "source": [
    "dic.clear()\n",
    "print(dic)"
   ]
  },
  {
   "cell_type": "code",
   "execution_count": null,
   "id": "007a8cb9",
   "metadata": {},
   "outputs": [],
   "source": []
  }
 ],
 "metadata": {
  "kernelspec": {
   "display_name": "Python 3 (ipykernel)",
   "language": "python",
   "name": "python3"
  },
  "language_info": {
   "codemirror_mode": {
    "name": "ipython",
    "version": 3
   },
   "file_extension": ".py",
   "mimetype": "text/x-python",
   "name": "python",
   "nbconvert_exporter": "python",
   "pygments_lexer": "ipython3",
   "version": "3.10.9"
  }
 },
 "nbformat": 4,
 "nbformat_minor": 5
}
