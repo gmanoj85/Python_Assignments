{
 "cells": [
  {
   "cell_type": "markdown",
   "id": "61542a77",
   "metadata": {},
   "source": [
    "Write a program to search for an element in given list of numbers and print its index value."
   ]
  },
  {
   "cell_type": "code",
   "execution_count": 1,
   "id": "1158f12f",
   "metadata": {},
   "outputs": [
    {
     "name": "stdout",
     "output_type": "stream",
     "text": [
      "Enter the Number to Search :8\n",
      "The value of index 7 is 8.\n"
     ]
    }
   ],
   "source": [
    "numbers = [1,2,3,4,5,6,7,8,9,10]\n",
    "n=int(input('Enter the Number to Search :'))\n",
    "for index, value in enumerate(numbers):\n",
    "    if value ==n:\n",
    "        print(f'The value of index {index} is {value}.')\n",
    "        break\n",
    "else:\n",
    "    print(f'The Number {n} is not found in the list.')"
   ]
  },
  {
   "cell_type": "code",
   "execution_count": 3,
   "id": "8041725b",
   "metadata": {},
   "outputs": [
    {
     "name": "stdout",
     "output_type": "stream",
     "text": [
      "Enter the Number to Search :11\n",
      "The Number 11 is not found in the list.\n"
     ]
    }
   ],
   "source": [
    "numbers = [1,2,3,4,5,6,7,8,9,10]\n",
    "n=int(input('Enter the Number to Search :'))\n",
    "for index, value in enumerate(numbers):\n",
    "    if value ==n:\n",
    "        print(f'The value of index {index} is {value}.')\n",
    "        break\n",
    "else:\n",
    "    print(f'The Number {n} is not found in the list.')"
   ]
  },
  {
   "cell_type": "markdown",
   "id": "074a1023",
   "metadata": {},
   "source": [
    "Write a program to count the frequency of a given element in a list."
   ]
  },
  {
   "cell_type": "code",
   "execution_count": 4,
   "id": "4dc3bea9",
   "metadata": {},
   "outputs": [
    {
     "name": "stdout",
     "output_type": "stream",
     "text": [
      "Enter the Number to Count :40\n",
      "The frequency of 40 in the list is 8.\n"
     ]
    }
   ],
   "source": [
    "numbers=[10,20,40,30,40,20,30,40,50,60,40,70,40,80,90,100,40,80,70,60,40,20,40]\n",
    "n=int(input('Enter the Number to Count :'))\n",
    "frequency=numbers.count(n)\n",
    "print(f'The frequency of {n} in the list is {frequency}.')"
   ]
  },
  {
   "cell_type": "markdown",
   "id": "3a57df7a",
   "metadata": {},
   "source": [
    "Write a program to input a list and an element and remove all occurrences of the given element from the list."
   ]
  },
  {
   "cell_type": "code",
   "execution_count": 1,
   "id": "42b1c1d0",
   "metadata": {},
   "outputs": [
    {
     "name": "stdout",
     "output_type": "stream",
     "text": [
      "List : [8, 16, 24, 16, 8, 32, 40, 8, 16, 24, 32, 24, 16, 8, 80, 8]\n",
      "Enter the Number, which need to be removed :8\n",
      "[16, 24, 16, 8, 32, 40, 8, 16, 24, 32, 24, 16, 8, 80, 8] after removing the Number\n"
     ]
    }
   ],
   "source": [
    "numbers=[8,16,24,16,8,32,40,8,16,24,32,24,16,8,80,8]\n",
    "print('List :',numbers)\n",
    "remove=int(input('Enter the Number, which need to be removed :'))\n",
    "if remove in numbers:\n",
    "    numbers.remove(remove)\n",
    "    print(f'{numbers} after removing the Number')\n",
    "else:\n",
    "    print('Number not found in the list')"
   ]
  },
  {
   "cell_type": "code",
   "execution_count": 2,
   "id": "090ceda4",
   "metadata": {},
   "outputs": [
    {
     "name": "stdout",
     "output_type": "stream",
     "text": [
      "List : [8, 16, 24, 16, 8, 32, 40, 8, 16, 24, 32, 24, 16, 8, 80, 8]\n",
      "Enter the Number, which need to be removed :48\n",
      "Number not found in the list\n"
     ]
    }
   ],
   "source": [
    "numbers=[8,16,24,16,8,32,40,8,16,24,32,24,16,8,80,8]\n",
    "print('List :',numbers)\n",
    "remove=int(input('Enter the Number, which need to be removed :'))\n",
    "if remove in numbers:\n",
    "    numbers.remove(remove)\n",
    "    print(f'{numbers} after removing the Number')\n",
    "else:\n",
    "    print('Number not found in the list')"
   ]
  },
  {
   "cell_type": "markdown",
   "id": "8b622e9a",
   "metadata": {},
   "source": [
    "Python program to interchange first and last elements in a list"
   ]
  },
  {
   "cell_type": "code",
   "execution_count": 4,
   "id": "f10eb961",
   "metadata": {},
   "outputs": [
    {
     "name": "stdout",
     "output_type": "stream",
     "text": [
      "List : [4, 8, 12, 16, 20, 24, 28, 32, 36, 40, 44, 48, 52, 56, 60]\n",
      "List after interchange : [60, 8, 12, 16, 20, 24, 28, 32, 36, 40, 44, 48, 52, 56, 4]\n"
     ]
    }
   ],
   "source": [
    "num=[4,8,12,16,20,24,28,32,36,40,44,48,52,56,60]\n",
    "print('List :',num)\n",
    "if len(num)>=2:\n",
    "    num[0],num[-1]=num[-1],num[0]\n",
    "    print(f'List after interchange : {num}')"
   ]
  },
  {
   "cell_type": "markdown",
   "id": "5a7d54fc",
   "metadata": {},
   "source": [
    "Write a program to calculate the mean of a given list of numbers."
   ]
  },
  {
   "cell_type": "code",
   "execution_count": 5,
   "id": "d13d147b",
   "metadata": {},
   "outputs": [
    {
     "name": "stdout",
     "output_type": "stream",
     "text": [
      "List : [5, 10, 15, 20, 25, 30, 35, 40, 45, 50]\n",
      "Sum of the Numbers in the List : 275\n",
      "Mean : 27.5\n"
     ]
    }
   ],
   "source": [
    "num=[5,10,15,20,25,30,35,40,45,50]\n",
    "print('List :',num)\n",
    "total=sum(num)\n",
    "print('Sum of the Numbers in the List :',sum(num))\n",
    "mean=total/len(num)\n",
    "print('Mean :',mean)"
   ]
  },
  {
   "cell_type": "code",
   "execution_count": null,
   "id": "60579235",
   "metadata": {},
   "outputs": [],
   "source": []
  }
 ],
 "metadata": {
  "kernelspec": {
   "display_name": "Python 3 (ipykernel)",
   "language": "python",
   "name": "python3"
  },
  "language_info": {
   "codemirror_mode": {
    "name": "ipython",
    "version": 3
   },
   "file_extension": ".py",
   "mimetype": "text/x-python",
   "name": "python",
   "nbconvert_exporter": "python",
   "pygments_lexer": "ipython3",
   "version": "3.10.9"
  }
 },
 "nbformat": 4,
 "nbformat_minor": 5
}
