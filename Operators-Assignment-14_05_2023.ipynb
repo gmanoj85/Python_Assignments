{
 "cells": [
  {
   "cell_type": "code",
   "execution_count": 1,
   "id": "ddb55325",
   "metadata": {},
   "outputs": [
    {
     "name": "stdout",
     "output_type": "stream",
     "text": [
      "Enter Your Name:Narasimhan. G\n",
      "My Name is: Narasimhan. G\n"
     ]
    }
   ],
   "source": [
    "#input and output fuction\n",
    "name=input('Enter Your Name:')\n",
    "print('My Name is:',name)"
   ]
  },
  {
   "cell_type": "code",
   "execution_count": 2,
   "id": "a3a28d06",
   "metadata": {},
   "outputs": [
    {
     "name": "stdout",
     "output_type": "stream",
     "text": [
      "Enter the number1:80\n",
      "Enter the Number2:160\n",
      "80160\n"
     ]
    }
   ],
   "source": [
    "x=input('Enter the number1:')\n",
    "y=input('Enter the Number2:')\n",
    "print(x+y)"
   ]
  },
  {
   "cell_type": "code",
   "execution_count": 3,
   "id": "6d46c6a1",
   "metadata": {},
   "outputs": [
    {
     "name": "stdout",
     "output_type": "stream",
     "text": [
      "Enter the Number1:40\n",
      "Enter the Number2:80\n",
      "120.0\n"
     ]
    }
   ],
   "source": [
    "x=int(input('Enter the Number1:'))\n",
    "y=float(input('Enter the Number2:'))\n",
    "print(x+y)"
   ]
  },
  {
   "cell_type": "code",
   "execution_count": 4,
   "id": "e36a3761",
   "metadata": {},
   "outputs": [
    {
     "name": "stdout",
     "output_type": "stream",
     "text": [
      "Enter the Number1:39.5+4j\n",
      "Enter the Number241.5\n",
      "(81+4j)\n"
     ]
    }
   ],
   "source": [
    "x=complex(input('Enter the Number1:'))\n",
    "y=float(input('Enter the Number2'))\n",
    "print(x+y)"
   ]
  },
  {
   "cell_type": "code",
   "execution_count": 5,
   "id": "d0a8a2af",
   "metadata": {},
   "outputs": [
    {
     "name": "stdout",
     "output_type": "stream",
     "text": [
      "Enter the Number1:60\n",
      "Enter the Number2:20\n",
      "Additon        of x and y is : 80\n",
      "Subtraction    of x and y is : 40\n",
      "Multiplication of x and y is : 1200\n",
      "Division       of x and y is : 3.0\n"
     ]
    }
   ],
   "source": [
    "#Arithmetic Operators\n",
    "x=int(input('Enter the Number1:'))\n",
    "y=int(input('Enter the Number2:'))\n",
    "print('Additon        of x and y is :',x+y)\n",
    "print('Subtraction    of x and y is :',x-y)\n",
    "print('Multiplication of x and y is :',x*y)\n",
    "print('Division       of x and y is :',x/y)"
   ]
  },
  {
   "cell_type": "code",
   "execution_count": 7,
   "id": "5a693733",
   "metadata": {},
   "outputs": [
    {
     "name": "stdout",
     "output_type": "stream",
     "text": [
      "Enter the Number1:89\n",
      "Enter the Number2:8\n",
      "Division       of x and y is : 11.125\n",
      "Floor Division of x and y is : 11\n",
      "Modulus        of x and y is : 1\n"
     ]
    }
   ],
   "source": [
    "x=int(input('Enter the Number1:'))\n",
    "y=int(input('Enter the Number2:'))\n",
    "print('Division       of x and y is :',x/y)\n",
    "print('Floor Division of x and y is :',x//y)\n",
    "print('Modulus        of x and y is :',x%y)"
   ]
  },
  {
   "cell_type": "code",
   "execution_count": 9,
   "id": "8da63ca0",
   "metadata": {},
   "outputs": [
    {
     "name": "stdout",
     "output_type": "stream",
     "text": [
      "Enter the Number1:12\n",
      "Enter the Number2:12\n",
      "Exponential of x and y is : 8916100448256\n"
     ]
    }
   ],
   "source": [
    "x=int(input('Enter the Number1:'))\n",
    "y=int(input('Enter the Number2:'))\n",
    "print('Exponential of x and y is :',x**y)"
   ]
  },
  {
   "cell_type": "code",
   "execution_count": 10,
   "id": "194823ce",
   "metadata": {},
   "outputs": [
    {
     "name": "stdout",
     "output_type": "stream",
     "text": [
      "Enter the Number1:40\n",
      "Enter the Number2:3\n",
      "Value of z     is : 43\n",
      "Addition       is : 83\n",
      "Subtraction    is : 80\n",
      "Multiplication is : 3200\n",
      "Division       is : 1066.6666666666667\n",
      "Floor Division is : 355.0\n",
      "Modulus        is : 1.0\n"
     ]
    }
   ],
   "source": [
    "#Assignment Operator\n",
    "x=int(input('Enter the Number1:'))\n",
    "y=int(input('Enter the Number2:'))\n",
    "z=x+y\n",
    "print('Value of z     is :',z)\n",
    "z+=x\n",
    "print('Addition       is :',z)\n",
    "z-=y\n",
    "print('Subtraction    is :',z)\n",
    "z*=x\n",
    "print('Multiplication is :',z)\n",
    "z/=y\n",
    "print('Division       is :',z)\n",
    "z//=y\n",
    "print('Floor Division is :',z)\n",
    "z%=y\n",
    "print('Modulus        is :',z)"
   ]
  },
  {
   "cell_type": "code",
   "execution_count": 11,
   "id": "9ae6a7c8",
   "metadata": {},
   "outputs": [
    {
     "name": "stdout",
     "output_type": "stream",
     "text": [
      "Enter the Number1:88.8\n",
      "Enter the Number1:88\n",
      "Equal to is : False\n",
      "Not Equal to is True\n"
     ]
    }
   ],
   "source": [
    "#Comparison Operator\n",
    "x=float(input('Enter the Number1:'))\n",
    "y=int(input('Enter the Number1:'))\n",
    "print('Equal to is :',x==y)\n",
    "print('Not Equal to is',x!=y)"
   ]
  },
  {
   "cell_type": "code",
   "execution_count": 12,
   "id": "346fd46a",
   "metadata": {},
   "outputs": [
    {
     "name": "stdout",
     "output_type": "stream",
     "text": [
      "Enter the Number1:80\n",
      "Enter the Number2:80\n",
      "Equal to is : True\n",
      "Not Equal to is: False\n"
     ]
    }
   ],
   "source": [
    "x=int(input('Enter the Number1:'))\n",
    "y=int(input('Enter the Number2:'))\n",
    "print('Equal to is :',x==y)\n",
    "print('Not Equal to is:',x!=y)"
   ]
  },
  {
   "cell_type": "code",
   "execution_count": 13,
   "id": "bdf2161f",
   "metadata": {},
   "outputs": [
    {
     "name": "stdout",
     "output_type": "stream",
     "text": [
      "Enter the Number1:44.5\n",
      "Enter the Number2:44\n",
      "Greater than is : True\n",
      "Greater than Equal to  is : True\n"
     ]
    }
   ],
   "source": [
    "x=float(input('Enter the Number1:'))\n",
    "y=int(input('Enter the Number2:'))\n",
    "print('Greater than is :',x>y)\n",
    "print('Greater than Equal to  is :',x>=y)"
   ]
  },
  {
   "cell_type": "code",
   "execution_count": 14,
   "id": "43ccf80b",
   "metadata": {},
   "outputs": [
    {
     "name": "stdout",
     "output_type": "stream",
     "text": [
      "Enter the Number1:44.5\n",
      "Enter the Number2:45\n",
      "Lesser than is : True\n",
      "Lesser than Equal to  is : True\n"
     ]
    }
   ],
   "source": [
    "x=float(input('Enter the Number1:'))\n",
    "y=int(input('Enter the Number2:'))\n",
    "print('Lesser than is :',x<y)\n",
    "print('Lesser than Equal to  is :',x<=y)"
   ]
  },
  {
   "cell_type": "code",
   "execution_count": 15,
   "id": "cad682a5",
   "metadata": {},
   "outputs": [
    {
     "name": "stdout",
     "output_type": "stream",
     "text": [
      "Enter the Number1:44.5\n",
      "Enter the Number2:44\n",
      "Lesser than is : False\n",
      "Lesser than Equal to  is : False\n"
     ]
    }
   ],
   "source": [
    "x=float(input('Enter the Number1:'))\n",
    "y=int(input('Enter the Number2:'))\n",
    "print('Lesser than is :',x<y)\n",
    "print('Lesser than Equal to  is :',x<=y)"
   ]
  },
  {
   "cell_type": "code",
   "execution_count": 16,
   "id": "8fef563e",
   "metadata": {},
   "outputs": [
    {
     "name": "stdout",
     "output_type": "stream",
     "text": [
      "Enter the Number=66.8\n",
      "Enter the Number=67\n",
      "And Value is : False\n",
      "Or  Value is : True\n"
     ]
    }
   ],
   "source": [
    "#Logical Operator\n",
    "x=float(input('Enter the Number='))\n",
    "y=int(input('Enter the Number='))\n",
    "print('And Value is :',x==y and x!=y)\n",
    "print('Or  Value is :',x==y or x!=y)"
   ]
  },
  {
   "cell_type": "code",
   "execution_count": 17,
   "id": "8fbc6c6d",
   "metadata": {},
   "outputs": [
    {
     "name": "stdout",
     "output_type": "stream",
     "text": [
      "True\n",
      "True\n",
      "False\n",
      "False\n"
     ]
    }
   ],
   "source": [
    "#Membership Operator - in and not in\n",
    "cities=['Chennai', 'Mumbai', 'Delhi', 'Kolkatta']\n",
    "print('Chennai' in cities)\n",
    "print('kolkatta' not in cities)\n",
    "print('Punjab' in cities)\n",
    "print('Mumbai' not in cities)"
   ]
  },
  {
   "cell_type": "code",
   "execution_count": 18,
   "id": "c7a5980f",
   "metadata": {},
   "outputs": [
    {
     "name": "stdout",
     "output_type": "stream",
     "text": [
      "140551538313936\n",
      "140551538312656\n",
      "False\n",
      "True\n"
     ]
    }
   ],
   "source": [
    "#Identity Operators\n",
    "x=80\n",
    "y=40\n",
    "print(id(x))\n",
    "print(id(y))\n",
    "print(x is y)\n",
    "print(x is not y)"
   ]
  },
  {
   "cell_type": "code",
   "execution_count": 19,
   "id": "59e7ccd7",
   "metadata": {},
   "outputs": [
    {
     "name": "stdout",
     "output_type": "stream",
     "text": [
      "140551538313936\n",
      "140551538313936\n",
      "True\n",
      "False\n"
     ]
    }
   ],
   "source": [
    "x=80\n",
    "y=80\n",
    "print(id(x))\n",
    "print(id(y))\n",
    "print(x is y)\n",
    "print(x is not y)"
   ]
  },
  {
   "cell_type": "code",
   "execution_count": 20,
   "id": "7f19e931",
   "metadata": {},
   "outputs": [
    {
     "name": "stdout",
     "output_type": "stream",
     "text": [
      "140551651552064\n",
      "140551664691648\n",
      "False\n",
      "True\n"
     ]
    }
   ],
   "source": [
    "cities=['Chennai', 'Mumbai', 'Delhi', 'Kolkatta']\n",
    "metros=['Chennai', 'Mumbai', 'Delhi', 'Kolkatta']\n",
    "print(id(cities))\n",
    "print(id(metros))\n",
    "print(cities is metros)\n",
    "print(metros is not cities)"
   ]
  },
  {
   "cell_type": "code",
   "execution_count": 21,
   "id": "d68e7069",
   "metadata": {},
   "outputs": [
    {
     "name": "stdout",
     "output_type": "stream",
     "text": [
      "140551651550272\n",
      "140551664996480\n",
      "False\n",
      "True\n"
     ]
    }
   ],
   "source": [
    "cities=['Chennai']\n",
    "metros=['Chennai']\n",
    "print(id(cities))\n",
    "print(id(metros))\n",
    "print(cities is metros)\n",
    "print(metros is not cities)"
   ]
  },
  {
   "cell_type": "code",
   "execution_count": 22,
   "id": "7659b506",
   "metadata": {},
   "outputs": [
    {
     "name": "stdout",
     "output_type": "stream",
     "text": [
      "Enter Your Name :Narasimhan. G\n",
      "Enter Your Role :Release Manager\n",
      "My Name is Narasimhan. G working as Release Manager\n"
     ]
    }
   ],
   "source": [
    "#String Formatting\n",
    "name=input('Enter Your Name :')\n",
    "role=input('Enter Your Role :')\n",
    "print('My Name is',name,'working as',role)"
   ]
  },
  {
   "cell_type": "code",
   "execution_count": 24,
   "id": "203d35db",
   "metadata": {},
   "outputs": [
    {
     "name": "stdout",
     "output_type": "stream",
     "text": [
      "Enter Your Name :Narasimhan. G\n",
      "Enter Your Role :Release Manager\n",
      "My Name is Narasimhan. G, working as Release Manager.\n"
     ]
    }
   ],
   "source": [
    "name=input('Enter Your Name :')\n",
    "role=input('Enter Your Role :')\n",
    "print(f'My Name is {name}, working as {role}.')"
   ]
  },
  {
   "cell_type": "code",
   "execution_count": null,
   "id": "7121a356",
   "metadata": {},
   "outputs": [],
   "source": []
  }
 ],
 "metadata": {
  "kernelspec": {
   "display_name": "Python 3 (ipykernel)",
   "language": "python",
   "name": "python3"
  },
  "language_info": {
   "codemirror_mode": {
    "name": "ipython",
    "version": 3
   },
   "file_extension": ".py",
   "mimetype": "text/x-python",
   "name": "python",
   "nbconvert_exporter": "python",
   "pygments_lexer": "ipython3",
   "version": "3.10.9"
  }
 },
 "nbformat": 4,
 "nbformat_minor": 5
}
