{
 "cells": [
  {
   "cell_type": "markdown",
   "id": "8f661cae",
   "metadata": {},
   "source": [
    "# Write a program to check wether 18+ are eligible to vote or not."
   ]
  },
  {
   "cell_type": "code",
   "execution_count": 6,
   "id": "9f03216c",
   "metadata": {},
   "outputs": [
    {
     "name": "stdout",
     "output_type": "stream",
     "text": [
      "Enter Your Name :Narasimhan. G\n",
      "Enter Your Age :35\n",
      "Hi Narasimhan. G, Your Age is 35, and You are eligible to Vote.\n"
     ]
    }
   ],
   "source": [
    "name=str(input('Enter Your Name :'))\n",
    "x=int(input('Enter Your Age :'))\n",
    "if x>=18:\n",
    "    print(f'Hi {name}, Your Age is {x}, and You are eligible to Vote.')\n",
    "else:\n",
    "    print(f'Hi {name}, Your Age is {x}, and Sorry, You are not elegible to Vote')"
   ]
  },
  {
   "cell_type": "code",
   "execution_count": 7,
   "id": "05aa4d41",
   "metadata": {},
   "outputs": [
    {
     "name": "stdout",
     "output_type": "stream",
     "text": [
      "Enter Your Name :RoshanRaagav. N\n",
      "Enter Your Age :8\n",
      "Hi RoshanRaagav. N, Your Age is 8, and Sorry, You are not elegible to Vote\n"
     ]
    }
   ],
   "source": [
    "name=str(input('Enter Your Name :'))\n",
    "x=int(input('Enter Your Age :'))\n",
    "if x>=18:\n",
    "    print(f'Hi {name}, Your Age is {x}, and You are eligible to Vote.')\n",
    "else:\n",
    "    print(f'Hi {name}, Your Age is {x}, and Sorry, You are not elegible to Vote')"
   ]
  },
  {
   "cell_type": "code",
   "execution_count": 8,
   "id": "116ab630",
   "metadata": {},
   "outputs": [
    {
     "name": "stdout",
     "output_type": "stream",
     "text": [
      "Enter Your Name :Aswin\n",
      "Enter Your Age :18\n",
      "Hi Aswin, Your Age is 18, and You are eligible to Vote.\n"
     ]
    }
   ],
   "source": [
    "name=str(input('Enter Your Name :'))\n",
    "x=int(input('Enter Your Age :'))\n",
    "if x>=18:\n",
    "    print(f'Hi {name}, Your Age is {x}, and You are eligible to Vote.')\n",
    "else:\n",
    "    print(f'Hi {name}, Your Age is {x}, and Sorry, You are not elegible to Vote')"
   ]
  },
  {
   "cell_type": "markdown",
   "id": "687ba4ab",
   "metadata": {},
   "source": [
    "# Python program to check whether the given year is a Leap year or not"
   ]
  },
  {
   "cell_type": "code",
   "execution_count": 1,
   "id": "347656b4",
   "metadata": {},
   "outputs": [
    {
     "name": "stdout",
     "output_type": "stream",
     "text": [
      "Enter the Year :2023\n",
      "2023 is Not a Leap Year\n"
     ]
    }
   ],
   "source": [
    "year=int(input('Enter the Year :'))\n",
    "if (year%4 and year%100 and year%400)==0:\n",
    "    print(year,'is a Leap Year')\n",
    "else:\n",
    "    print(year,'is Not a Leap Year')"
   ]
  },
  {
   "cell_type": "code",
   "execution_count": 2,
   "id": "efb5256f",
   "metadata": {},
   "outputs": [
    {
     "name": "stdout",
     "output_type": "stream",
     "text": [
      "Enter the Year :2024\n",
      "2024 is a Leap Year\n"
     ]
    }
   ],
   "source": [
    "year=int(input('Enter the Year :'))\n",
    "if (year%4 and year%100 and year%400)==0:\n",
    "    print(year,'is a Leap Year')\n",
    "else:\n",
    "    print(year,'is Not a Leap Year')"
   ]
  },
  {
   "cell_type": "markdown",
   "id": "b74d4bd8",
   "metadata": {},
   "source": [
    "# Python Program to given string or a number is pallindrome"
   ]
  },
  {
   "cell_type": "code",
   "execution_count": 9,
   "id": "d424a6e7",
   "metadata": {},
   "outputs": [
    {
     "name": "stdout",
     "output_type": "stream",
     "text": [
      "Enter the Data: Civic\n",
      "Converted data: CiviC\n",
      "Civic is a Palindrome\n"
     ]
    }
   ],
   "source": [
    "def convert_case(data):\n",
    "    data = data.strip()\n",
    "    if data:\n",
    "        last_letter = data[-1]\n",
    "        first_letter = data[0]\n",
    "\n",
    "        if first_letter.islower():\n",
    "            converted_last_letter = last_letter.lower()\n",
    "        else:\n",
    "            converted_last_letter = last_letter.upper()\n",
    "\n",
    "        converted_data = data[:-1] + converted_last_letter\n",
    "        \n",
    "        if converted_data == converted_data[::-1]:\n",
    "            palindrome_check = f\"{data} is a Palindrome\"\n",
    "        else:\n",
    "            palindrome_check = f\"{data} is Not a Palindrome\"\n",
    "\n",
    "        return converted_data, palindrome_check\n",
    "\n",
    "data = input('Enter the Data: ')\n",
    "converted_data, palindrome_check = convert_case(data)\n",
    "print(f\"Converted data: {converted_data}\")\n",
    "print(palindrome_check)"
   ]
  },
  {
   "cell_type": "code",
   "execution_count": 10,
   "id": "83ae0d63",
   "metadata": {},
   "outputs": [
    {
     "name": "stdout",
     "output_type": "stream",
     "text": [
      "Enter the Data: radaR\n",
      "Converted data: radar\n",
      "radaR is a Palindrome\n"
     ]
    }
   ],
   "source": [
    "def convert_case(data):\n",
    "    data = data.strip()\n",
    "    if data:\n",
    "        last_letter = data[-1]\n",
    "        first_letter = data[0]\n",
    "\n",
    "        if first_letter.islower():\n",
    "            converted_last_letter = last_letter.lower()\n",
    "        else:\n",
    "            converted_last_letter = last_letter.upper()\n",
    "\n",
    "        converted_data = data[:-1] + converted_last_letter\n",
    "        \n",
    "        if converted_data == converted_data[::-1]:\n",
    "            palindrome_check = f\"{data} is a Palindrome\"\n",
    "        else:\n",
    "            palindrome_check = f\"{data} is Not a Palindrome\"\n",
    "\n",
    "        return converted_data, palindrome_check\n",
    "\n",
    "data = input('Enter the Data: ')\n",
    "converted_data, palindrome_check = convert_case(data)\n",
    "print(f\"Converted data: {converted_data}\")\n",
    "print(palindrome_check)"
   ]
  },
  {
   "cell_type": "code",
   "execution_count": 12,
   "id": "c85f0124",
   "metadata": {},
   "outputs": [
    {
     "name": "stdout",
     "output_type": "stream",
     "text": [
      "Enter the Data: 1234321\n",
      "Converted data: 1234321\n",
      "1234321 is a Palindrome\n"
     ]
    }
   ],
   "source": [
    "def convert_case(data):\n",
    "    data = data.strip()\n",
    "    if data:\n",
    "        last_letter = data[-1]\n",
    "        first_letter = data[0]\n",
    "\n",
    "        if first_letter.islower():\n",
    "            converted_last_letter = last_letter.lower()\n",
    "        else:\n",
    "            converted_last_letter = last_letter.upper()\n",
    "\n",
    "        converted_data = data[:-1] + converted_last_letter\n",
    "        \n",
    "        if converted_data == converted_data[::-1]:\n",
    "            palindrome_check = f\"{data} is a Palindrome\"\n",
    "        else:\n",
    "            palindrome_check = f\"{data} is Not a Palindrome\"\n",
    "\n",
    "        return converted_data, palindrome_check\n",
    "\n",
    "data = input('Enter the Data: ')\n",
    "converted_data, palindrome_check = convert_case(data)\n",
    "print(f\"Converted data: {converted_data}\")\n",
    "print(palindrome_check)"
   ]
  },
  {
   "cell_type": "code",
   "execution_count": 13,
   "id": "8927d04f",
   "metadata": {},
   "outputs": [
    {
     "name": "stdout",
     "output_type": "stream",
     "text": [
      "Enter the Data: Civics\n",
      "Converted data: CivicS\n",
      "Civics is Not a Palindrome\n"
     ]
    }
   ],
   "source": [
    "def convert_case(data):\n",
    "    data = data.strip()\n",
    "    if data:\n",
    "        last_letter = data[-1]\n",
    "        first_letter = data[0]\n",
    "\n",
    "        if first_letter.islower():\n",
    "            converted_last_letter = last_letter.lower()\n",
    "        else:\n",
    "            converted_last_letter = last_letter.upper()\n",
    "\n",
    "        converted_data = data[:-1] + converted_last_letter\n",
    "        \n",
    "        if converted_data == converted_data[::-1]:\n",
    "            palindrome_check = f\"{data} is a Palindrome\"\n",
    "        else:\n",
    "            palindrome_check = f\"{data} is Not a Palindrome\"\n",
    "\n",
    "        return converted_data, palindrome_check\n",
    "\n",
    "data = input('Enter the Data: ')\n",
    "converted_data, palindrome_check = convert_case(data)\n",
    "print(f\"Converted data: {converted_data}\")\n",
    "print(palindrome_check)"
   ]
  },
  {
   "cell_type": "markdown",
   "id": "26d4363a",
   "metadata": {},
   "source": [
    "# Write a program to find larger of two numbers"
   ]
  },
  {
   "cell_type": "code",
   "execution_count": 15,
   "id": "9d5e34fc",
   "metadata": {},
   "outputs": [
    {
     "name": "stdout",
     "output_type": "stream",
     "text": [
      "Enter the 1st Number :88.88\n",
      "Enter the 2nd Number :88.87\n",
      "The Larger Number is 88.88\n"
     ]
    }
   ],
   "source": [
    "num1=float(input('Enter the 1st Number :'))\n",
    "num2=float(input('Enter the 2nd Number :'))\n",
    "if num1>num2:\n",
    "    print(f'The Larger Number is {num1}')\n",
    "else:\n",
    "    print(f'The Larger Number is {num2}')"
   ]
  },
  {
   "cell_type": "markdown",
   "id": "8540d333",
   "metadata": {},
   "source": [
    "# Write a program to enter any character, if the character is lowercase convert it into and if it is an uppercase character, then convert it into lowercase"
   ]
  },
  {
   "cell_type": "code",
   "execution_count": 16,
   "id": "364a4080",
   "metadata": {},
   "outputs": [
    {
     "name": "stdout",
     "output_type": "stream",
     "text": [
      "Enter a Data :PYTHON PROGRAM\n",
      "Converted Character is : python program\n"
     ]
    }
   ],
   "source": [
    "char=str(input('Enter a Data :'))\n",
    "if char.islower():\n",
    "    converted_char=char.upper()\n",
    "elif char.isupper():\n",
    "        converted_char=char.lower()\n",
    "else:\n",
    "        converted_char=char\n",
    "print('Converted Character is :', converted_char)"
   ]
  },
  {
   "cell_type": "code",
   "execution_count": 17,
   "id": "8cfdc911",
   "metadata": {},
   "outputs": [
    {
     "name": "stdout",
     "output_type": "stream",
     "text": [
      "Enter a Data :python program\n",
      "Converted Character is : PYTHON PROGRAM\n"
     ]
    }
   ],
   "source": [
    "char=str(input('Enter a Data :'))\n",
    "if char.islower():\n",
    "    converted_char=char.upper()\n",
    "elif char.isupper():\n",
    "        converted_char=char.lower()\n",
    "else:\n",
    "        converted_char=char\n",
    "print('Converted Character is :', converted_char)"
   ]
  },
  {
   "cell_type": "markdown",
   "id": "fd3bef07",
   "metadata": {},
   "source": [
    "# Write a program to determine the character is a vowel or not"
   ]
  },
  {
   "cell_type": "code",
   "execution_count": 1,
   "id": "a081136e",
   "metadata": {},
   "outputs": [
    {
     "name": "stdout",
     "output_type": "stream",
     "text": [
      "Enter a Character :A\n",
      "A is a Vowel\n"
     ]
    }
   ],
   "source": [
    "char=input('Enter a Character :')\n",
    "vowels=['a', 'A', 'e', 'E', 'i', 'I', 'o', 'O', 'u', 'U']\n",
    "if char in vowels:\n",
    "    print(char, 'is a Vowel')\n",
    "else:\n",
    "    print(char,'is Not a vowel')"
   ]
  },
  {
   "cell_type": "code",
   "execution_count": 2,
   "id": "8bc3f828",
   "metadata": {},
   "outputs": [
    {
     "name": "stdout",
     "output_type": "stream",
     "text": [
      "Enter a Character :e\n",
      "e is a Vowel\n"
     ]
    }
   ],
   "source": [
    "char=input('Enter a Character :')\n",
    "vowels=['a', 'A', 'e', 'E', 'i', 'I', 'o', 'O', 'u', 'U']\n",
    "if char in vowels:\n",
    "    print(char, 'is a Vowel')\n",
    "else:\n",
    "    print(char,'is Not a vowel')"
   ]
  },
  {
   "cell_type": "code",
   "execution_count": 3,
   "id": "2df54c96",
   "metadata": {},
   "outputs": [
    {
     "name": "stdout",
     "output_type": "stream",
     "text": [
      "Enter a Character :M\n",
      "M is Not a vowel\n"
     ]
    }
   ],
   "source": [
    "char=input('Enter a Character :')\n",
    "vowels=['a', 'A', 'e', 'E', 'i', 'I', 'o', 'O', 'u', 'U']\n",
    "if char in vowels:\n",
    "    print(char, 'is a Vowel')\n",
    "else:\n",
    "    print(char,'is Not a vowel')"
   ]
  },
  {
   "cell_type": "markdown",
   "id": "67c883a6",
   "metadata": {},
   "source": [
    "# Write a program to find the greatest number from the three"
   ]
  },
  {
   "cell_type": "code",
   "execution_count": 4,
   "id": "2300cce5",
   "metadata": {},
   "outputs": [
    {
     "name": "stdout",
     "output_type": "stream",
     "text": [
      "Enter the 1st Number :88.888\n",
      "Enter the 2nd Number :88.889\n",
      "Enter the 3rd Number :89\n",
      "The Greatest Number is : 89.0\n"
     ]
    }
   ],
   "source": [
    "num1=float(input('Enter the 1st Number :'))\n",
    "num2=float(input('Enter the 2nd Number :'))\n",
    "num3=float(input('Enter the 3rd Number :'))\n",
    "if num1>=num2 and num1>=num3:\n",
    "    print('The Greatest Number is :',num1)\n",
    "elif num2>=num1 and num2>=num3:\n",
    "    print('The Greatest Number is :',num2)\n",
    "else:\n",
    "    print('The Greatest Number is :',num3)"
   ]
  },
  {
   "cell_type": "code",
   "execution_count": null,
   "id": "fc160692",
   "metadata": {},
   "outputs": [],
   "source": []
  }
 ],
 "metadata": {
  "kernelspec": {
   "display_name": "Python 3 (ipykernel)",
   "language": "python",
   "name": "python3"
  },
  "language_info": {
   "codemirror_mode": {
    "name": "ipython",
    "version": 3
   },
   "file_extension": ".py",
   "mimetype": "text/x-python",
   "name": "python",
   "nbconvert_exporter": "python",
   "pygments_lexer": "ipython3",
   "version": "3.10.9"
  }
 },
 "nbformat": 4,
 "nbformat_minor": 5
}
