{
 "cells": [
  {
   "cell_type": "code",
   "execution_count": 1,
   "id": "a88b4bc1",
   "metadata": {},
   "outputs": [
    {
     "name": "stdout",
     "output_type": "stream",
     "text": [
      "60\n"
     ]
    }
   ],
   "source": [
    "#Move the data from one file to another file\n",
    "f = open('/Volumes/Untitled-Data/Python + Data Science/Files/NSG-Source.txt', 'r')\n",
    "r = f.read()\n",
    "s = open('/Volumes/Untitled-Data/Python + Data Science/Files/NSG-destination.txt', 'w')\n",
    "print(s.write(r))\n",
    "s.close()"
   ]
  },
  {
   "cell_type": "code",
   "execution_count": 2,
   "id": "e1335a96",
   "metadata": {},
   "outputs": [
    {
     "name": "stdout",
     "output_type": "stream",
     "text": [
      "Data Copied successfully from Source file to Destination File.\n"
     ]
    }
   ],
   "source": [
    "n = open('/Volumes/Untitled-Data/Python + Data Science/Files/source_file.txt', 'w')\n",
    "n.write('Assignment to move data from one file to another.')\n",
    "n.close()\n",
    "n = open('/Volumes/Untitled-Data/Python + Data Science/Files/source_file.txt', 'r')\n",
    "s = n.read()\n",
    "n.close()\n",
    "r = open('/Volumes/Untitled-Data/Python + Data Science/Files/desitnation_file.txt', 'w')\n",
    "r.write(s)\n",
    "r.close()\n",
    "print(\"Data Copied successfully from Source file to Destination File.\")"
   ]
  },
  {
   "cell_type": "code",
   "execution_count": 3,
   "id": "310c3ab1",
   "metadata": {},
   "outputs": [
    {
     "name": "stdout",
     "output_type": "stream",
     "text": [
      "60\n"
     ]
    }
   ],
   "source": [
    "#Move the data from one file to another file in reversed order\n",
    "f = open('/Volumes/Untitled-Data/Python + Data Science/Files/NSG-Source.txt', 'r')\n",
    "n = f.read()\n",
    "r = n[::-1]\n",
    "s = open('/Volumes/Untitled-Data/Python + Data Science/Files/NSG-reverse.txt', 'w')\n",
    "print(s.write(r))\n",
    "s.close()"
   ]
  },
  {
   "cell_type": "code",
   "execution_count": 5,
   "id": "d8500275",
   "metadata": {},
   "outputs": [
    {
     "name": "stdout",
     "output_type": "stream",
     "text": [
      "Data copied and reversed successfully to Destination File.\n"
     ]
    }
   ],
   "source": [
    "n = open('/Volumes/Untitled-Data/Python + Data Science/Files/source_file.txt', 'w')\n",
    "n.write('Assignment to move data from one file to another in reversed order.')\n",
    "n.close()\n",
    "n = open('/Volumes/Untitled-Data/Python + Data Science/Files/source_file.txt', 'r')\n",
    "s = n.read()\n",
    "n.close()\n",
    "r_d = s[::-1]\n",
    "r = open('/Volumes/Untitled-Data/Python + Data Science/Files/reverse_file.txt', 'w')\n",
    "r.write(r_d)\n",
    "r.close()\n",
    "print(\"Data copied and reversed successfully to Destination File.\")"
   ]
  },
  {
   "cell_type": "code",
   "execution_count": 6,
   "id": "2ccb17e8",
   "metadata": {},
   "outputs": [
    {
     "name": "stdout",
     "output_type": "stream",
     "text": [
      "The file '/Volumes/Untitled-Data/Python + Data Science/Files/Manoj' has 9 lines.\n"
     ]
    }
   ],
   "source": [
    "#Count the number of lines in a file\n",
    "f = '/Volumes/Untitled-Data/Python + Data Science/Files/Manoj'\n",
    "m = open(f, 'r')\n",
    "c = m.readlines()\n",
    "n = len(c)\n",
    "m.close()\n",
    "\n",
    "print(f\"The file '{f}' has {n} lines.\")"
   ]
  },
  {
   "cell_type": "code",
   "execution_count": 8,
   "id": "ec2c5100",
   "metadata": {},
   "outputs": [
    {
     "name": "stdout",
     "output_type": "stream",
     "text": [
      "The: 1\n",
      "File: 1\n",
      "Handling: 1\n",
      "plays: 1\n",
      "an: 1\n",
      "important: 1\n",
      "role: 1\n",
      "when: 1\n",
      "the: 3\n",
      "data: 1\n",
      "needs: 1\n",
      "to: 2\n",
      "be: 1\n",
      "stored: 2\n",
      "permanently: 1\n",
      "into: 1\n",
      "a: 2\n",
      "file.: 1\n",
      "A: 1\n",
      "file: 1\n",
      "is: 1\n",
      "named: 1\n",
      "location: 1\n",
      "on: 1\n",
      "disk: 1\n",
      "store: 1\n",
      "related: 1\n",
      "information.: 1\n",
      "We: 1\n",
      "can: 1\n",
      "access: 1\n",
      "information: 1\n",
      "(non-volatile): 1\n",
      "after: 1\n",
      "program: 1\n",
      "termination.: 1\n"
     ]
    }
   ],
   "source": [
    "#Using file handling Python program to count the frequency of words in a file.\n",
    "f = 'Roshan.txt'\n",
    "m = open(f, 'r')\n",
    "w_f = {}\n",
    "\n",
    "for line in m:\n",
    "    words = line.split()\n",
    "\n",
    "    for word in words:\n",
    "        if word in w_f:\n",
    "            w_f[word] += 1\n",
    "        else:\n",
    "            w_f[word] = 1\n",
    "\n",
    "\n",
    "m.close()\n",
    "\n",
    "for word, freq in w_f.items():\n",
    "    print(f\"{word}: {freq}\")"
   ]
  },
  {
   "cell_type": "code",
   "execution_count": null,
   "id": "85290d9f",
   "metadata": {},
   "outputs": [],
   "source": []
  }
 ],
 "metadata": {
  "kernelspec": {
   "display_name": "Python 3 (ipykernel)",
   "language": "python",
   "name": "python3"
  },
  "language_info": {
   "codemirror_mode": {
    "name": "ipython",
    "version": 3
   },
   "file_extension": ".py",
   "mimetype": "text/x-python",
   "name": "python",
   "nbconvert_exporter": "python",
   "pygments_lexer": "ipython3",
   "version": "3.10.9"
  }
 },
 "nbformat": 4,
 "nbformat_minor": 5
}
