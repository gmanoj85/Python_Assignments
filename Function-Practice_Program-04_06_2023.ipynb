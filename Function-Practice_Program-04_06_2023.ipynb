{
 "cells": [
  {
   "cell_type": "code",
   "execution_count": 1,
   "id": "bd65434f",
   "metadata": {},
   "outputs": [
    {
     "name": "stdout",
     "output_type": "stream",
     "text": [
      "[20, 11, 12, 13, 14, 15]\n"
     ]
    }
   ],
   "source": [
    "#How to define & call a function?\n",
    "def fun(x):#function defn.\n",
    "    x[0] = 20\n",
    "    return x\n",
    "lst = [10,11,12,13,14,15] # your input\n",
    "fun(lst) #function calling\n",
    "print(lst)"
   ]
  },
  {
   "cell_type": "code",
   "execution_count": 2,
   "id": "b255b9e0",
   "metadata": {},
   "outputs": [
    {
     "name": "stdout",
     "output_type": "stream",
     "text": [
      "[10, 11, 12, 13, 14, 15, 20]\n"
     ]
    }
   ],
   "source": [
    "def fun(x):\n",
    "    x.append(20)\n",
    "    return x\n",
    "\n",
    "lst = [10, 11, 12, 13, 14, 15]\n",
    "fun(lst)\n",
    "print(lst)"
   ]
  },
  {
   "cell_type": "code",
   "execution_count": 3,
   "id": "6489ca8f",
   "metadata": {},
   "outputs": [
    {
     "name": "stdout",
     "output_type": "stream",
     "text": [
      "[20, 10, 11, 12, 13, 14, 15]\n"
     ]
    }
   ],
   "source": [
    "def fun(x):\n",
    "    x.insert(0, 20)\n",
    "    return x\n",
    "\n",
    "lst = [10, 11, 12, 13, 14, 15]\n",
    "fun(lst)\n",
    "print(lst)"
   ]
  },
  {
   "cell_type": "code",
   "execution_count": 4,
   "id": "796b0630",
   "metadata": {},
   "outputs": [
    {
     "name": "stdout",
     "output_type": "stream",
     "text": [
      "[20, 11, 12, 13, 14, 15]\n",
      "140391433980416\n"
     ]
    }
   ],
   "source": [
    "#Pass by Reference\n",
    "def fun(x):#function defn.\n",
    "    x[0] = 20\n",
    "    return x\n",
    "lst = [10,11,12,13,14,15] # your input\n",
    "fun(lst) #function calling\n",
    "print(lst)\n",
    "print(id(lst))# Check the addr, of variable in fn. call"
   ]
  },
  {
   "cell_type": "code",
   "execution_count": 5,
   "id": "9978383b",
   "metadata": {},
   "outputs": [
    {
     "name": "stdout",
     "output_type": "stream",
     "text": [
      "2hello\n",
      "140391423507504\n",
      "hello\n",
      "140391425446000\n"
     ]
    }
   ],
   "source": [
    "#pass by Values\n",
    "def new(a):\n",
    "    x='2'+a\n",
    "    print(x)\n",
    "    print(id(x))\n",
    "a='hello'\n",
    "new(a)\n",
    "print(a)\n",
    "print(id(a))"
   ]
  },
  {
   "cell_type": "code",
   "execution_count": 6,
   "id": "e046faa7",
   "metadata": {},
   "outputs": [
    {
     "ename": "TypeError",
     "evalue": "sum_list() missing 1 required positional argument: 'items1'",
     "output_type": "error",
     "traceback": [
      "\u001b[0;31m---------------------------------------------------------------------------\u001b[0m",
      "\u001b[0;31mTypeError\u001b[0m                                 Traceback (most recent call last)",
      "Cell \u001b[0;32mIn[6], line 10\u001b[0m\n\u001b[1;32m      7\u001b[0m     \u001b[38;5;28;01mreturn\u001b[39;00m sum_numbers\n\u001b[1;32m      9\u001b[0m lst \u001b[38;5;241m=\u001b[39m[\u001b[38;5;241m1\u001b[39m, \u001b[38;5;241m2\u001b[39m, \u001b[38;5;241m-\u001b[39m\u001b[38;5;241m8\u001b[39m]\n\u001b[0;32m---> 10\u001b[0m \u001b[38;5;28mprint\u001b[39m(\u001b[43msum_list\u001b[49m\u001b[43m(\u001b[49m\u001b[43mlst\u001b[49m\u001b[43m)\u001b[49m)\n",
      "\u001b[0;31mTypeError\u001b[0m: sum_list() missing 1 required positional argument: 'items1'"
     ]
    }
   ],
   "source": [
    "#Types of Function Arguments\n",
    "#Required Arguments\n",
    "def sum_list(items,items1):\n",
    "    sum_numbers = 0\n",
    "    for x in items:\n",
    "        sum_numbers += x\n",
    "    return sum_numbers\n",
    "\n",
    "lst =[1, 2, -8]\n",
    "print(sum_list(lst))"
   ]
  },
  {
   "cell_type": "code",
   "execution_count": 7,
   "id": "e308c336",
   "metadata": {},
   "outputs": [
    {
     "name": "stdout",
     "output_type": "stream",
     "text": [
      "-12\n"
     ]
    }
   ],
   "source": [
    "def y(items):\n",
    "    sum_numbers = -7\n",
    "    for x in items:\n",
    "        sum_numbers += x\n",
    "    return sum_numbers\n",
    "\n",
    "lst = [1, 2, -8]\n",
    "print(y(lst))"
   ]
  },
  {
   "cell_type": "code",
   "execution_count": 8,
   "id": "d7c55060",
   "metadata": {},
   "outputs": [
    {
     "name": "stdout",
     "output_type": "stream",
     "text": [
      "-12\n"
     ]
    }
   ],
   "source": [
    "lst = [1, 2, -8]\n",
    "sum_numbers = -7\n",
    "for x in lst:\n",
    "    sum_numbers += x\n",
    "print(sum_numbers)"
   ]
  },
  {
   "cell_type": "code",
   "execution_count": 9,
   "id": "6ee84ad9",
   "metadata": {},
   "outputs": [
    {
     "name": "stdout",
     "output_type": "stream",
     "text": [
      "Name :  miki\n",
      "Age : 50\n"
     ]
    },
    {
     "ename": "TypeError",
     "evalue": "printinfo() missing 1 required positional argument: 'age'",
     "output_type": "error",
     "traceback": [
      "\u001b[0;31m---------------------------------------------------------------------------\u001b[0m",
      "\u001b[0;31mTypeError\u001b[0m                                 Traceback (most recent call last)",
      "Cell \u001b[0;32mIn[9], line 7\u001b[0m\n\u001b[1;32m      5\u001b[0m     \u001b[38;5;28;01mreturn\u001b[39;00m;\n\u001b[1;32m      6\u001b[0m printinfo(age\u001b[38;5;241m=\u001b[39m\u001b[38;5;241m50\u001b[39m, name\u001b[38;5;241m=\u001b[39m\u001b[38;5;124m'\u001b[39m\u001b[38;5;124mmiki\u001b[39m\u001b[38;5;124m'\u001b[39m)\n\u001b[0;32m----> 7\u001b[0m \u001b[43mprintinfo\u001b[49m\u001b[43m(\u001b[49m\u001b[43mname\u001b[49m\u001b[38;5;241;43m=\u001b[39;49m\u001b[38;5;124;43m'\u001b[39;49m\u001b[38;5;124;43mmiki\u001b[39;49m\u001b[38;5;124;43m'\u001b[39;49m\u001b[43m)\u001b[49m\n",
      "\u001b[0;31mTypeError\u001b[0m: printinfo() missing 1 required positional argument: 'age'"
     ]
    }
   ],
   "source": [
    "#Keyword Arguments\n",
    "def printinfo (name, age):\n",
    "    print('Name : ',name)\n",
    "    print('Age :',age)\n",
    "    return;\n",
    "printinfo(age=50, name='miki')\n",
    "printinfo(name='miki')"
   ]
  },
  {
   "cell_type": "code",
   "execution_count": 10,
   "id": "232e0dec",
   "metadata": {},
   "outputs": [
    {
     "name": "stdout",
     "output_type": "stream",
     "text": [
      "Sum: 10\n",
      "Sum: 60\n",
      "Sum: 70\n",
      "Sum: 130\n",
      "Sum: 180\n"
     ]
    }
   ],
   "source": [
    " #Variable length Arguments-Using *args\n",
    "def printinfo(*var):\n",
    "    sum=0\n",
    "    for z in var:\n",
    "        sum=sum+z\n",
    "        print('Sum:',sum)\n",
    "#Now you can call printinfo function\n",
    "printinfo(10,50)\n",
    "printinfo(70,60,50)"
   ]
  },
  {
   "cell_type": "code",
   "execution_count": 11,
   "id": "43db440e",
   "metadata": {},
   "outputs": [
    {
     "name": "stdout",
     "output_type": "stream",
     "text": [
      "Firstname are Sita\n",
      "Lastname are sharma\n",
      "Firstname are John\n",
      "Lastname are wood\n"
     ]
    }
   ],
   "source": [
    "#Variable length arguments-Using **args\n",
    "def intro(**data):\n",
    "    for key,value in data.items():\n",
    "        print('{} are {}'.format(key,value))\n",
    "intro(Firstname='Sita',Lastname='sharma')\n",
    "intro(Firstname='John',Lastname='wood')"
   ]
  },
  {
   "cell_type": "code",
   "execution_count": 12,
   "id": "36568513",
   "metadata": {},
   "outputs": [
    {
     "name": "stdout",
     "output_type": "stream",
     "text": [
      "9 * 1 = 9\n",
      "9 * 2 = 18\n",
      "9 * 3 = 27\n",
      "9 * 4 = 36\n",
      "9 * 5 = 45\n",
      "9 * 6 = 54\n",
      "9 * 7 = 63\n",
      "9 * 8 = 72\n",
      "9 * 9 = 81\n",
      "9 * 10 = 90\n"
     ]
    }
   ],
   "source": [
    "def mul(num): \n",
    "    'Prints the multiplication table of a given number'\n",
    "    for i in range(1,11):\n",
    "        print('{multiplier} * {multiplicand} = {multiplication}'.format(\n",
    "            multiplier=num, multiplicand=i, multiplication = num * i))\n",
    "    \n",
    "mul(9)"
   ]
  },
  {
   "cell_type": "code",
   "execution_count": 18,
   "id": "85fd38f1",
   "metadata": {},
   "outputs": [
    {
     "name": "stdout",
     "output_type": "stream",
     "text": [
      "Enter the Number to Multiply : 8\n",
      "8 * 1 = 8\n",
      "8 * 2 = 16\n",
      "8 * 3 = 24\n",
      "8 * 4 = 32\n",
      "8 * 5 = 40\n",
      "8 * 6 = 48\n",
      "8 * 7 = 56\n",
      "8 * 8 = 64\n",
      "8 * 9 = 72\n",
      "8 * 10 = 80\n"
     ]
    }
   ],
   "source": [
    "def mul(num):\n",
    "    for i in range(1,11):\n",
    "        print('{multiplier} * {multiplicand} = {multiplication}'.format(\n",
    "             multiplier=num, multiplicand=i, multiplication=num*i))\n",
    "num=int(input('Enter the Number to Multiply : '))\n",
    "mul(num)"
   ]
  },
  {
   "cell_type": "code",
   "execution_count": null,
   "id": "6c883052",
   "metadata": {},
   "outputs": [],
   "source": [
    "Given a list, Write a Python program to swap first and last element of the list. Input :[12,35,9,56,24], \n",
    "Output : [24,35,9,56,12], Input : [1,2,3], Output : [3,2,1]"
   ]
  },
  {
   "cell_type": "code",
   "execution_count": 13,
   "id": "4108368a",
   "metadata": {},
   "outputs": [
    {
     "name": "stdout",
     "output_type": "stream",
     "text": [
      "[24, 35, 9, 56, 12]\n"
     ]
    }
   ],
   "source": [
    "#Python program to swap first and last element of a list\n",
    "#swap function\n",
    "def swaplist(newlist):\n",
    "    size=len(newlist)\n",
    "    #swapping\n",
    "    temp=newlist[0]\n",
    "    newlist[0]=newlist[size -1]\n",
    "    newlist[size -1]=temp\n",
    "    return newlist\n",
    "\n",
    "#driver code\n",
    "newlist = [12,35,9,56,24]\n",
    "print(swaplist(newlist))"
   ]
  },
  {
   "cell_type": "code",
   "execution_count": 20,
   "id": "fc06e18a",
   "metadata": {},
   "outputs": [
    {
     "name": "stdout",
     "output_type": "stream",
     "text": [
      "Enter the list: 1 2 3\n",
      "[3, 2, 1]\n"
     ]
    }
   ],
   "source": [
    "def swap_list(list1):\n",
    "    if len(list1) >= 2:\n",
    "        list1[0],list1[-1]=list1[-1],list1[0]\n",
    "    return list1\n",
    "\n",
    "lst = input('Enter the list: ')\n",
    "lst = lst.replace(',', ' ').split()\n",
    "lst = [int(num) for num in lst]\n",
    "swaplist=swap_list(lst)\n",
    "print(swaplist)"
   ]
  },
  {
   "cell_type": "code",
   "execution_count": 14,
   "id": "dde80bf4",
   "metadata": {},
   "outputs": [
    {
     "name": "stdout",
     "output_type": "stream",
     "text": [
      "[24, 35, 9, 56, 12]\n"
     ]
    }
   ],
   "source": [
    "#Python program to swapm first and last element of a list\n",
    "#swap function\n",
    "def swapList(newList):\n",
    "    newList[0], newList[-1] = newList[-1], newList[0]\n",
    "    return newList\n",
    "\n",
    "#Driver Code\n",
    "newList = [12,35,9,56,24]\n",
    "print(swapList(newList))"
   ]
  },
  {
   "cell_type": "markdown",
   "id": "85b6e9c1",
   "metadata": {},
   "source": [
    "Python Program to swap 2 elements in a list\n",
    "Input = [23,65,19,90], pos1=1, pos2=3, Output = [19,65,23,90]\n",
    "Input = [1,2,3,4,5] , pos1=2, pos2=5, Output = [1,5,3,4,2]"
   ]
  },
  {
   "cell_type": "code",
   "execution_count": 15,
   "id": "3715e32f",
   "metadata": {},
   "outputs": [
    {
     "name": "stdout",
     "output_type": "stream",
     "text": [
      "[19, 65, 23, 90]\n"
     ]
    }
   ],
   "source": [
    "#Python program to swap elements at given positions\n",
    "#Swap function\n",
    "def swappositions(list,pos1,pos2):\n",
    "    list[pos1], list[pos2] = list[pos2], list[pos1]\n",
    "    return list\n",
    "\n",
    "#Driver program\n",
    "list=[23,65,19,90]\n",
    "pos1,pos2=1,3\n",
    "print(swappositions(list,pos1-1,pos2-1))"
   ]
  },
  {
   "cell_type": "code",
   "execution_count": 21,
   "id": "5bb71094",
   "metadata": {},
   "outputs": [
    {
     "name": "stdout",
     "output_type": "stream",
     "text": [
      "Enter the List : 1 2 3 4 5\n",
      "Enter the Positions : 2 5\n",
      "Original List :  [1, 2, 3, 4, 5]\n",
      "Swapped List :  [1, 5, 3, 4, 2]\n"
     ]
    }
   ],
   "source": [
    "def swappos(lis,pos):\n",
    "    for pos1, pos2 in pos:\n",
    "        if pos1>=len(lis) or pos2>=len(lis):\n",
    "            print('Given Position is Invalid')\n",
    "            return\n",
    "    lis[pos1], lis[pos2]=lis[pos2], lis[pos1]\n",
    "\n",
    "lis1=input('Enter the List : ')\n",
    "lis=lis1.replace(',',' ').replace(' ',' ').split()\n",
    "lis=[int(num) for num in lis]\n",
    "\n",
    "post=input('Enter the Positions : ')\n",
    "pos=post.replace(',',' ').replace(' ',' ').split()\n",
    "pos=[int(num) for num in pos]\n",
    "\n",
    "print('Original List : ',lis)\n",
    "position=[(pos[i]-1,pos[i+1]-1) for i in range(0,len(pos),2)]\n",
    "swappos(lis,position)\n",
    "print('Swapped List : ',lis)"
   ]
  },
  {
   "cell_type": "markdown",
   "id": "59ed3d0b",
   "metadata": {},
   "source": [
    "How to find the length of a list in Python"
   ]
  },
  {
   "cell_type": "code",
   "execution_count": 16,
   "id": "24004dbe",
   "metadata": {},
   "outputs": [
    {
     "name": "stdout",
     "output_type": "stream",
     "text": [
      "The length of the List is :  3\n"
     ]
    }
   ],
   "source": [
    "li = [10,20,30]\n",
    "n=len(li)\n",
    "print('The length of the List is : ',n)"
   ]
  },
  {
   "cell_type": "code",
   "execution_count": 17,
   "id": "0d493531",
   "metadata": {},
   "outputs": [
    {
     "name": "stdout",
     "output_type": "stream",
     "text": [
      "The List is : [1, 4, 5, 7, 8]\n",
      "Length of list using naive method is : 5\n"
     ]
    }
   ],
   "source": [
    "#Initialising List\n",
    "test_list = [1,4,5,7,8]\n",
    "#Printing test_list\n",
    "print('The List is : '+str(test_list))\n",
    "#Finding length of the list using loop initialising counter\n",
    "counter=0\n",
    "for i in test_list:\n",
    "    #incrementing counter\n",
    "    counter = counter + 1\n",
    "#Printing length of the list\n",
    "print('Length of list using naive method is : '+ str(counter))"
   ]
  },
  {
   "cell_type": "code",
   "execution_count": null,
   "id": "e59283ea",
   "metadata": {},
   "outputs": [],
   "source": [
    "Maximum of 2 numbers in Python\n",
    "Input: a = 2, b= 4, Output: 4. Input: a = -1, b = -4, Output: -1"
   ]
  },
  {
   "cell_type": "code",
   "execution_count": 22,
   "id": "1ee83ca5",
   "metadata": {},
   "outputs": [
    {
     "name": "stdout",
     "output_type": "stream",
     "text": [
      "4\n"
     ]
    }
   ],
   "source": [
    "#Python Program to find the maximum of 2 numbers\n",
    "def maximum(a, b):\n",
    "    if a >= b:\n",
    "        return a\n",
    "    else:\n",
    "        return b\n",
    "    \n",
    "#Driver code\n",
    "a = 2\n",
    "b = 4\n",
    "print(maximum(a,b))"
   ]
  },
  {
   "cell_type": "code",
   "execution_count": 23,
   "id": "5d908ffe",
   "metadata": {},
   "outputs": [
    {
     "name": "stdout",
     "output_type": "stream",
     "text": [
      "Enter the Numbers : -1 -4\n",
      "The Maximum Number is -1\n"
     ]
    }
   ],
   "source": [
    "def max(numbers):\n",
    "    max_num = numbers[0]\n",
    "    for num in numbers:\n",
    "        if num > max_num:\n",
    "            max_num = num\n",
    "    return max_num\n",
    "\n",
    "y=input('Enter the Numbers : ')\n",
    "x=y.replace(',',' ').replace(' ', ' ').split()\n",
    "x=[int(num) for num in x]\n",
    "\n",
    "print(f'The Maximum Number is {max(x)}')"
   ]
  },
  {
   "cell_type": "code",
   "execution_count": null,
   "id": "7860cce7",
   "metadata": {},
   "outputs": [],
   "source": []
  }
 ],
 "metadata": {
  "kernelspec": {
   "display_name": "Python 3 (ipykernel)",
   "language": "python",
   "name": "python3"
  },
  "language_info": {
   "codemirror_mode": {
    "name": "ipython",
    "version": 3
   },
   "file_extension": ".py",
   "mimetype": "text/x-python",
   "name": "python",
   "nbconvert_exporter": "python",
   "pygments_lexer": "ipython3",
   "version": "3.10.9"
  }
 },
 "nbformat": 4,
 "nbformat_minor": 5
}
