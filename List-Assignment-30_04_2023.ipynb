{
 "cells": [
  {
   "cell_type": "code",
   "execution_count": 1,
   "id": "9de7392f",
   "metadata": {},
   "outputs": [
    {
     "name": "stdout",
     "output_type": "stream",
     "text": [
      "['Chennai', 'Banglore', 'Kolkatta', 'Delhi']\n"
     ]
    }
   ],
   "source": [
    "cities=['Chennai','Banglore','Kolkatta','Delhi']\n",
    "print(cities)"
   ]
  },
  {
   "cell_type": "code",
   "execution_count": 3,
   "id": "fb2542c7",
   "metadata": {},
   "outputs": [
    {
     "name": "stdout",
     "output_type": "stream",
     "text": [
      "['Chennai', 'Banglore', 'Kolkatta', 'Delhi', 'Mumbai']\n"
     ]
    }
   ],
   "source": [
    "cities.append('Mumbai')\n",
    "print(cities)"
   ]
  },
  {
   "cell_type": "code",
   "execution_count": 4,
   "id": "63859023",
   "metadata": {},
   "outputs": [
    {
     "name": "stdout",
     "output_type": "stream",
     "text": [
      "['Chennai', 'Banglore', 'Kolkatta', 'Delhi', 'Mumbai', 'Trichy', 'Kovai']\n"
     ]
    }
   ],
   "source": [
    "cities.extend(['Trichy','Kovai'])\n",
    "print(cities)"
   ]
  },
  {
   "cell_type": "code",
   "execution_count": 5,
   "id": "32fe5c55",
   "metadata": {},
   "outputs": [
    {
     "name": "stdout",
     "output_type": "stream",
     "text": [
      "['Chennai', 'Banglore', 'Kolkatta', 'Delhi', 'Mumbai', 'Salem', 'Trichy', 'Kovai']\n"
     ]
    }
   ],
   "source": [
    "cities.insert(5,'Salem')\n",
    "print(cities)"
   ]
  },
  {
   "cell_type": "code",
   "execution_count": 6,
   "id": "0e929ffa",
   "metadata": {},
   "outputs": [
    {
     "name": "stdout",
     "output_type": "stream",
     "text": [
      "['Chennai', 'Banglore', 'Kolkatta', 'New Delhi', 'Mumbai', 'Salem', 'Trichy', 'Kovai']\n"
     ]
    }
   ],
   "source": [
    "cities[3]='New Delhi'\n",
    "print(cities)"
   ]
  },
  {
   "cell_type": "code",
   "execution_count": 7,
   "id": "1c193cfc",
   "metadata": {},
   "outputs": [
    {
     "name": "stdout",
     "output_type": "stream",
     "text": [
      "['Chennai', 'Banglore', 'Kolkatta', 'New Delhi', 'Mumbai', 'Salem', 'Trichy', ('Kovai', 'Salem', 'Trichy')]\n"
     ]
    }
   ],
   "source": [
    "cities[-1]='Kovai','Salem','Trichy'\n",
    "print(cities)"
   ]
  },
  {
   "cell_type": "code",
   "execution_count": 8,
   "id": "5d2d975a",
   "metadata": {},
   "outputs": [
    {
     "name": "stdout",
     "output_type": "stream",
     "text": [
      "8\n"
     ]
    }
   ],
   "source": [
    "print(len(cities))"
   ]
  },
  {
   "cell_type": "code",
   "execution_count": 9,
   "id": "05ad9d04",
   "metadata": {},
   "outputs": [
    {
     "name": "stdout",
     "output_type": "stream",
     "text": [
      "1\n",
      "['Chennai', 'Banglore', 'Kolkatta', 'New Delhi', 'Mumbai', 'Salem', 'Trichy', ('Kovai', 'Salem', 'Trichy')]\n"
     ]
    }
   ],
   "source": [
    "print(cities.count('Trichy'))\n",
    "print(cities)"
   ]
  },
  {
   "cell_type": "code",
   "execution_count": 10,
   "id": "48d4e25a",
   "metadata": {},
   "outputs": [
    {
     "name": "stdout",
     "output_type": "stream",
     "text": [
      "2\n"
     ]
    }
   ],
   "source": [
    "print(cities.index('Kolkatta'))"
   ]
  },
  {
   "cell_type": "code",
   "execution_count": 18,
   "id": "7cce5ea0",
   "metadata": {},
   "outputs": [
    {
     "name": "stdout",
     "output_type": "stream",
     "text": [
      "[('Kovai', 'Salem', 'Trichy'), 'Trichy', 'Salem', 'New Delhi', 'Mumbai', 'Kolkatta', 'Chennai', 'Banglore']\n"
     ]
    }
   ],
   "source": [
    "cities.reverse()\n",
    "print(cities)"
   ]
  },
  {
   "cell_type": "code",
   "execution_count": 19,
   "id": "8e1fd8c0",
   "metadata": {},
   "outputs": [
    {
     "name": "stdout",
     "output_type": "stream",
     "text": [
      "Salem\n",
      "Kolkatta\n"
     ]
    }
   ],
   "source": [
    "print(cities[2])\n",
    "print(cities[-3])"
   ]
  },
  {
   "cell_type": "code",
   "execution_count": 20,
   "id": "93f97233",
   "metadata": {},
   "outputs": [
    {
     "name": "stdout",
     "output_type": "stream",
     "text": [
      "[('Kovai', 'Salem', 'Trichy'), 'Trichy', 'Salem', 'New Delhi', 'Mumbai', 'Kolkatta', 'Chennai']\n"
     ]
    }
   ],
   "source": [
    "print(cities[0:7])"
   ]
  },
  {
   "cell_type": "code",
   "execution_count": 21,
   "id": "c3864f0b",
   "metadata": {},
   "outputs": [
    {
     "name": "stdout",
     "output_type": "stream",
     "text": [
      "['Banglore', 'Chennai', 'Kolkatta', 'Mumbai', 'New Delhi', 'Salem', 'Trichy', ('Kovai', 'Salem', 'Trichy')]\n"
     ]
    }
   ],
   "source": [
    "cities.reverse()\n",
    "print(cities)"
   ]
  },
  {
   "cell_type": "code",
   "execution_count": 22,
   "id": "7c8b18d8",
   "metadata": {},
   "outputs": [
    {
     "name": "stdout",
     "output_type": "stream",
     "text": [
      "['Chennai', 'Kolkatta', 'Mumbai', 'New Delhi', 'Salem', 'Trichy', ('Kovai', 'Salem', 'Trichy')]\n",
      "['Banglore', 'Chennai', 'Kolkatta', 'Mumbai', 'New Delhi', 'Salem', 'Trichy', ('Kovai', 'Salem', 'Trichy')]\n"
     ]
    }
   ],
   "source": [
    "print(cities[1:])\n",
    "print(cities[:9])"
   ]
  },
  {
   "cell_type": "code",
   "execution_count": 23,
   "id": "304b52bb",
   "metadata": {},
   "outputs": [
    {
     "name": "stdout",
     "output_type": "stream",
     "text": [
      "['Banglore', 'Chennai', 'Kolkatta', 'Mumbai', 'New Delhi', 'Salem', 'Trichy', ('Kovai', 'Salem', 'Trichy')]\n"
     ]
    }
   ],
   "source": [
    "print(cities)"
   ]
  },
  {
   "cell_type": "code",
   "execution_count": 24,
   "id": "dcf1ee60",
   "metadata": {},
   "outputs": [
    {
     "name": "stdout",
     "output_type": "stream",
     "text": [
      "['Banglore', 'Chennai', 'Kolkatta', 'Mumbai', 'New Delhi', 'Salem', 'Trichy']\n"
     ]
    }
   ],
   "source": [
    "print(cities[:-1])"
   ]
  },
  {
   "cell_type": "code",
   "execution_count": 25,
   "id": "120ccf2c",
   "metadata": {},
   "outputs": [
    {
     "name": "stdout",
     "output_type": "stream",
     "text": [
      "['Banglore', 'Mumbai', 'Trichy']\n"
     ]
    }
   ],
   "source": [
    "print(cities[0:8:3])"
   ]
  },
  {
   "cell_type": "code",
   "execution_count": 26,
   "id": "3551639c",
   "metadata": {},
   "outputs": [
    {
     "name": "stdout",
     "output_type": "stream",
     "text": [
      "[('Kovai', 'Salem', 'Trichy'), 'Trichy', 'Salem', 'New Delhi', 'Mumbai', 'Kolkatta', 'Chennai', 'Banglore']\n"
     ]
    }
   ],
   "source": [
    "print(cities[::-1])"
   ]
  },
  {
   "cell_type": "code",
   "execution_count": 28,
   "id": "8d3df84e",
   "metadata": {},
   "outputs": [
    {
     "name": "stdout",
     "output_type": "stream",
     "text": [
      "['Kolkatta', 'Mumbai', 'New Delhi', 'Salem', 'Trichy', ('Kovai', 'Salem', 'Trichy')]\n"
     ]
    }
   ],
   "source": [
    "del cities[0]\n",
    "print(cities)"
   ]
  },
  {
   "cell_type": "code",
   "execution_count": 29,
   "id": "f5cf5e0e",
   "metadata": {},
   "outputs": [
    {
     "name": "stdout",
     "output_type": "stream",
     "text": [
      "['Kolkatta', 'Mumbai', 'New Delhi', 'Salem', 'Trichy']\n"
     ]
    }
   ],
   "source": [
    "cities.pop()\n",
    "print(cities)"
   ]
  },
  {
   "cell_type": "code",
   "execution_count": 31,
   "id": "3a0e8be4",
   "metadata": {},
   "outputs": [
    {
     "name": "stdout",
     "output_type": "stream",
     "text": [
      "['Kolkatta', 'Mumbai', 'New Delhi', 'Salem']\n"
     ]
    }
   ],
   "source": [
    "cities.pop(-1)\n",
    "print(cities)"
   ]
  },
  {
   "cell_type": "code",
   "execution_count": 32,
   "id": "d92c60b5",
   "metadata": {},
   "outputs": [
    {
     "name": "stdout",
     "output_type": "stream",
     "text": [
      "['Kolkatta', 'Mumbai', 'Salem']\n"
     ]
    }
   ],
   "source": [
    "cities.remove('New Delhi')\n",
    "print(cities)"
   ]
  },
  {
   "cell_type": "code",
   "execution_count": 33,
   "id": "666fa7ed",
   "metadata": {},
   "outputs": [
    {
     "ename": "ValueError",
     "evalue": "list.remove(x): x not in list",
     "output_type": "error",
     "traceback": [
      "\u001b[0;31m---------------------------------------------------------------------------\u001b[0m",
      "\u001b[0;31mValueError\u001b[0m                                Traceback (most recent call last)",
      "Cell \u001b[0;32mIn[33], line 1\u001b[0m\n\u001b[0;32m----> 1\u001b[0m \u001b[43mcities\u001b[49m\u001b[38;5;241;43m.\u001b[39;49m\u001b[43mremove\u001b[49m\u001b[43m(\u001b[49m\u001b[38;5;124;43m'\u001b[39;49m\u001b[38;5;124;43mPunjab\u001b[39;49m\u001b[38;5;124;43m'\u001b[39;49m\u001b[43m)\u001b[49m\n\u001b[1;32m      2\u001b[0m \u001b[38;5;28mprint\u001b[39m(cities)\n",
      "\u001b[0;31mValueError\u001b[0m: list.remove(x): x not in list"
     ]
    }
   ],
   "source": [
    "cities.remove('Punjab')\n",
    "print(cities)"
   ]
  },
  {
   "cell_type": "code",
   "execution_count": 35,
   "id": "155a32a8",
   "metadata": {},
   "outputs": [
    {
     "name": "stdout",
     "output_type": "stream",
     "text": [
      "[]\n"
     ]
    }
   ],
   "source": [
    "cities.clear()\n",
    "print(cities)"
   ]
  },
  {
   "cell_type": "code",
   "execution_count": 36,
   "id": "b978d0f5",
   "metadata": {},
   "outputs": [
    {
     "name": "stdout",
     "output_type": "stream",
     "text": [
      "['Chennai', 'Banglore', 'Kolkatta', 'Delhi']\n"
     ]
    }
   ],
   "source": [
    "cities=['Chennai','Banglore','Kolkatta','Delhi']\n",
    "print(cities)"
   ]
  },
  {
   "cell_type": "code",
   "execution_count": 37,
   "id": "7b16a209",
   "metadata": {},
   "outputs": [
    {
     "name": "stdout",
     "output_type": "stream",
     "text": [
      "['Banglore', 'Chennai', 'Delhi', 'Kolkatta']\n"
     ]
    }
   ],
   "source": [
    "cities.sort()\n",
    "print(cities)"
   ]
  },
  {
   "cell_type": "code",
   "execution_count": null,
   "id": "03fe606c",
   "metadata": {},
   "outputs": [],
   "source": []
  }
 ],
 "metadata": {
  "kernelspec": {
   "display_name": "Python 3 (ipykernel)",
   "language": "python",
   "name": "python3"
  },
  "language_info": {
   "codemirror_mode": {
    "name": "ipython",
    "version": 3
   },
   "file_extension": ".py",
   "mimetype": "text/x-python",
   "name": "python",
   "nbconvert_exporter": "python",
   "pygments_lexer": "ipython3",
   "version": "3.10.9"
  }
 },
 "nbformat": 4,
 "nbformat_minor": 5
}
