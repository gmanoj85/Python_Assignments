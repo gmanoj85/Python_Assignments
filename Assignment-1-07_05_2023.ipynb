{
 "cells": [
  {
   "cell_type": "markdown",
   "id": "609adf5f",
   "metadata": {},
   "source": [
    "1) Suppose list1 is [2, 33, 222, 14, 25], What is list1[:-1] ?\n",
    "\n",
    "a) [2, 33, 222, 14].\n",
    "\n",
    "b) Error\n",
    "\n",
    "c) 25\n",
    "\n",
    "\n",
    "d) [25, 14, 222, 33, 2]"
   ]
  },
  {
   "cell_type": "markdown",
   "id": "17cd2b7c",
   "metadata": {},
   "source": [
    "Ans: a) [2, 33, 222, 14]."
   ]
  },
  {
   "cell_type": "code",
   "execution_count": 5,
   "id": "4b6706c2",
   "metadata": {
    "scrolled": true
   },
   "outputs": [
    {
     "name": "stdout",
     "output_type": "stream",
     "text": [
      "[2, 33, 222, 14]\n"
     ]
    }
   ],
   "source": [
    "li=[2,33,222,14,25]\n",
    "print(li[:-1])"
   ]
  },
  {
   "cell_type": "markdown",
   "id": "0d59bea2",
   "metadata": {},
   "source": [
    "2) What is the output when following code is executed ?\n",
    "\n",
    "\n",
    "names =['Amir', 'Bear', 'Charlton', 'Daman']\n",
    "\n",
    "print(names[-1][-1])\n",
    "\n",
    "a) A\n",
    "\n",
    "b) Daman\n",
    "\n",
    "c) Error\n",
    "\n",
    "d) n"
   ]
  },
  {
   "cell_type": "markdown",
   "id": "86b99ccd",
   "metadata": {},
   "source": [
    "Ans: d) n"
   ]
  },
  {
   "cell_type": "code",
   "execution_count": 2,
   "id": "c40f386a",
   "metadata": {},
   "outputs": [
    {
     "name": "stdout",
     "output_type": "stream",
     "text": [
      "n\n"
     ]
    }
   ],
   "source": [
    "names=['Amir','Bear','Charlton','Daman']\n",
    "print(names[-1][-1])"
   ]
  },
  {
   "cell_type": "markdown",
   "id": "e7f5145a",
   "metadata": {},
   "source": [
    "3. What is the output when following code is executed ?\n",
    "\n",
    "list1 =[1, 3]\n",
    "\n",
    "list2 = list1\n",
    "\n",
    "list1[0]=4\n",
    "\n",
    "print(list2)\n",
    "\n",
    "a) [1, 3].\n",
    "\n",
    "b) [4, 3].\n",
    "\n",
    "c) [1, 4].\n",
    "\n",
    "d) [1, 3, 4]."
   ]
  },
  {
   "cell_type": "markdown",
   "id": "87e2d01a",
   "metadata": {},
   "source": [
    "Ans: b) [4,3]"
   ]
  },
  {
   "cell_type": "code",
   "execution_count": 24,
   "id": "5846f816",
   "metadata": {},
   "outputs": [
    {
     "name": "stdout",
     "output_type": "stream",
     "text": [
      "[4, 3]\n"
     ]
    }
   ],
   "source": [
    "list1=[1,3]\n",
    "list2=list1\n",
    "list1[0]=4\n",
    "print(list2)"
   ]
  },
  {
   "cell_type": "markdown",
   "id": "5654f07c",
   "metadata": {},
   "source": [
    "4. Which of the following is not a declaration of the dictionary?\n",
    "\n",
    "a){1:'A':2:'B'}\n",
    "\n",
    "b)dict([[1,'A'],[2,'B']])\n",
    "\n",
    "c){1,\"A\",2\"B\"}\n",
    "\n",
    "d) {}\n",
    "\n",
    "Ans: b)dict([[1,'A'],[2,'B']])"
   ]
  },
  {
   "cell_type": "markdown",
   "id": "b4eec7ce",
   "metadata": {},
   "source": [
    "5. What is the output of the following code?\n",
    "\n",
    "a={1:5,2:3,3:4}\n",
    "\n",
    "a.pop(3)\n",
    "\n",
    "print(a)\n",
    "\n",
    "a) {1: 5}\n",
    "\n",
    "b) {1: 5, 2: 3}\n",
    "\n",
    "c) Error, syntax error for pop() method\n",
    "\n",
    "d) {1: 5, 3: 4}\n",
    "\n",
    "Ans: b) {1: 5, 2: 3}"
   ]
  },
  {
   "cell_type": "code",
   "execution_count": 7,
   "id": "423d0f96",
   "metadata": {},
   "outputs": [
    {
     "name": "stdout",
     "output_type": "stream",
     "text": [
      "{1: 5, 2: 3}\n"
     ]
    }
   ],
   "source": [
    "a={1:5,2:3,3:4}\n",
    "a.pop(3)\n",
    "print(a)"
   ]
  },
  {
   "cell_type": "markdown",
   "id": "c9a43ff1",
   "metadata": {},
   "source": [
    "6. What will be the output of the following Python code?\n",
    "\n",
    "nums = set([1,1,2,3,3,3,4,4])\n",
    "\n",
    "print(len(nums))\n",
    "\n",
    "a) 7\n",
    "\n",
    "b) Error, invalid syntax for formation of set\n",
    "\n",
    "c) 4\n",
    "\n",
    "d) 8\n",
    "\n",
    "Ans: c) 4"
   ]
  },
  {
   "cell_type": "code",
   "execution_count": 8,
   "id": "dbbf8cd3",
   "metadata": {},
   "outputs": [
    {
     "name": "stdout",
     "output_type": "stream",
     "text": [
      "4\n"
     ]
    }
   ],
   "source": [
    "nums=set([1,1,2,3,3,3,4,4])\n",
    "print(len(nums))"
   ]
  },
  {
   "cell_type": "markdown",
   "id": "cea8499a",
   "metadata": {},
   "source": [
    "7. What will be the output of the following Python code?\n",
    "\n",
    "a={1,2,3} b=a\n",
    "\n",
    "b.remove(3)\n",
    "\n",
    "print(a)\n",
    "\n",
    "a) {1,2,3}\n",
    "\n",
    "b) Error, copying of sets isn’t allowed\n",
    "\n",
    "c) {1,2}\n",
    "\n",
    "d) Error, invalid syntax for remove\n",
    "\n",
    "Ans: c) {1,2}"
   ]
  },
  {
   "cell_type": "code",
   "execution_count": 10,
   "id": "804abd33",
   "metadata": {},
   "outputs": [
    {
     "name": "stdout",
     "output_type": "stream",
     "text": [
      "{1, 2}\n"
     ]
    }
   ],
   "source": [
    "a={1,2,3}\n",
    "b=a\n",
    "b.remove(3)\n",
    "print(a)"
   ]
  },
  {
   "cell_type": "markdown",
   "id": "6df4eb98",
   "metadata": {},
   "source": [
    "8. Is the following Python code valid?\n",
    "\n",
    "a={3,4,{7,5}}\n",
    "\n",
    "print(a[2][0])\n",
    "\n",
    "a) Yes, 7 is printed\n",
    "\n",
    "b) Error, elements of a set can’t be printed\n",
    "\n",
    "c) Error, subsets aren’t allowed\n",
    "\n",
    "d) Yes, {7,5} is printed\n",
    "\n",
    "Ans: c) Error, subsets aren’t allowed"
   ]
  },
  {
   "cell_type": "code",
   "execution_count": 11,
   "id": "ab052daa",
   "metadata": {},
   "outputs": [
    {
     "ename": "TypeError",
     "evalue": "unhashable type: 'set'",
     "output_type": "error",
     "traceback": [
      "\u001b[0;31m---------------------------------------------------------------------------\u001b[0m",
      "\u001b[0;31mTypeError\u001b[0m                                 Traceback (most recent call last)",
      "Cell \u001b[0;32mIn[11], line 1\u001b[0m\n\u001b[0;32m----> 1\u001b[0m a\u001b[38;5;241m=\u001b[39m{\u001b[38;5;241m3\u001b[39m,\u001b[38;5;241m4\u001b[39m,{\u001b[38;5;241m7\u001b[39m,\u001b[38;5;241m5\u001b[39m}}\n\u001b[1;32m      2\u001b[0m \u001b[38;5;28mprint\u001b[39m(a[\u001b[38;5;241m2\u001b[39m][\u001b[38;5;241m0\u001b[39m])\n",
      "\u001b[0;31mTypeError\u001b[0m: unhashable type: 'set'"
     ]
    }
   ],
   "source": [
    "a={3,4,{7,5}}\n",
    "print(a[2][0])"
   ]
  },
  {
   "cell_type": "markdown",
   "id": "a4c06d35",
   "metadata": {},
   "source": [
    "9. What will be the output of the following Python code?\n",
    "\n",
    "a={4,5,6} b={2,8,6}\n",
    "\n",
    "print(a+b)\n",
    "\n",
    "a) {4,5,6,2,8}\n",
    "\n",
    "b) {4,5,6,2,8,6}\n",
    "\n",
    "c) Error as unsupported operand type for sets\n",
    "\n",
    "d) Error as the duplicate item 6 is present in both sets\n",
    "\n",
    "Ans: c) Error as unsupported operand type for sets"
   ]
  },
  {
   "cell_type": "code",
   "execution_count": 12,
   "id": "07d95d69",
   "metadata": {},
   "outputs": [
    {
     "ename": "TypeError",
     "evalue": "unsupported operand type(s) for +: 'set' and 'set'",
     "output_type": "error",
     "traceback": [
      "\u001b[0;31m---------------------------------------------------------------------------\u001b[0m",
      "\u001b[0;31mTypeError\u001b[0m                                 Traceback (most recent call last)",
      "Cell \u001b[0;32mIn[12], line 3\u001b[0m\n\u001b[1;32m      1\u001b[0m a\u001b[38;5;241m=\u001b[39m{\u001b[38;5;241m4\u001b[39m,\u001b[38;5;241m5\u001b[39m,\u001b[38;5;241m6\u001b[39m}\n\u001b[1;32m      2\u001b[0m b\u001b[38;5;241m=\u001b[39m{\u001b[38;5;241m2\u001b[39m,\u001b[38;5;241m8\u001b[39m,\u001b[38;5;241m6\u001b[39m}\n\u001b[0;32m----> 3\u001b[0m \u001b[38;5;28mprint\u001b[39m(\u001b[43ma\u001b[49m\u001b[38;5;241;43m+\u001b[39;49m\u001b[43mb\u001b[49m)\n",
      "\u001b[0;31mTypeError\u001b[0m: unsupported operand type(s) for +: 'set' and 'set'"
     ]
    }
   ],
   "source": [
    "a={4,5,6}\n",
    "b={2,8,6}\n",
    "print(a+b)"
   ]
  },
  {
   "cell_type": "markdown",
   "id": "a470ef65",
   "metadata": {},
   "source": [
    "10. What is the output?\n",
    "\n",
    "d ={\"john\":40, \"peter\":45}\n",
    "\n",
    "print(d[\"john\"])\n",
    "\n",
    "a) 40\n",
    "\n",
    "b) 45\n",
    "\n",
    "c) “john”\n",
    "\n",
    "d) “peter”\n",
    "\n",
    "Ans: a) 40"
   ]
  },
  {
   "cell_type": "code",
   "execution_count": 13,
   "id": "e68f9fc7",
   "metadata": {},
   "outputs": [
    {
     "name": "stdout",
     "output_type": "stream",
     "text": [
      "40\n"
     ]
    }
   ],
   "source": [
    "d={\"john\":40,\"peter\":45}\n",
    "print(d[\"john\"])"
   ]
  },
  {
   "cell_type": "markdown",
   "id": "47e95ce9",
   "metadata": {},
   "source": [
    "11. What will be the output of the following Python code?\n",
    "\n",
    "example = \"snow world\"\n",
    "\n",
    "example[3] = 's'\n",
    "\n",
    "print (example)\n",
    "\n",
    "a) snow\n",
    "\n",
    "b) snow world\n",
    "\n",
    "c) Error\n",
    "\n",
    "d) snos world\n",
    "\n",
    "Ans: c) Error"
   ]
  },
  {
   "cell_type": "code",
   "execution_count": 14,
   "id": "4278a3e9",
   "metadata": {},
   "outputs": [
    {
     "ename": "TypeError",
     "evalue": "'str' object does not support item assignment",
     "output_type": "error",
     "traceback": [
      "\u001b[0;31m---------------------------------------------------------------------------\u001b[0m",
      "\u001b[0;31mTypeError\u001b[0m                                 Traceback (most recent call last)",
      "Cell \u001b[0;32mIn[14], line 2\u001b[0m\n\u001b[1;32m      1\u001b[0m example\u001b[38;5;241m=\u001b[39m\u001b[38;5;124m\"\u001b[39m\u001b[38;5;124msnow world\u001b[39m\u001b[38;5;124m\"\u001b[39m\n\u001b[0;32m----> 2\u001b[0m example[\u001b[38;5;241m3\u001b[39m]\u001b[38;5;241m=\u001b[39m\u001b[38;5;124m'\u001b[39m\u001b[38;5;124ms\u001b[39m\u001b[38;5;124m'\u001b[39m\n\u001b[1;32m      3\u001b[0m \u001b[38;5;28mprint\u001b[39m(example)\n",
      "\u001b[0;31mTypeError\u001b[0m: 'str' object does not support item assignment"
     ]
    }
   ],
   "source": [
    "example=\"snow world\"\n",
    "example[3]='s'\n",
    "print(example)"
   ]
  },
  {
   "cell_type": "markdown",
   "id": "218bc3de",
   "metadata": {},
   "source": [
    "12. What will be the output of the following Python code?\n",
    "\n",
    "print(\"xyyzxyzxzxyy\".count('yy', 1))\n",
    "\n",
    "a) 2\n",
    "\n",
    "b) 0\n",
    "\n",
    "c) 1\n",
    "\n",
    "d) none of the mentioned\n",
    "\n",
    "Ans: a) 2"
   ]
  },
  {
   "cell_type": "code",
   "execution_count": 17,
   "id": "0a457c56",
   "metadata": {},
   "outputs": [
    {
     "name": "stdout",
     "output_type": "stream",
     "text": [
      "2\n"
     ]
    }
   ],
   "source": [
    "print(\"xyyzxyzxzxyy\".count('yy',1))"
   ]
  },
  {
   "cell_type": "markdown",
   "id": "a1396031",
   "metadata": {},
   "source": [
    "13. What will be the output of the following Python code?\n",
    "\n",
    "print(\"abcdef\".find(\"cd\"))\n",
    "\n",
    "a) True\n",
    "\n",
    "b) 2\n",
    "\n",
    "c) 3\n",
    "\n",
    "d) None of the mentioned\n",
    "\n",
    "Ans: b) 2"
   ]
  },
  {
   "cell_type": "code",
   "execution_count": 18,
   "id": "27c6e4e3",
   "metadata": {},
   "outputs": [
    {
     "name": "stdout",
     "output_type": "stream",
     "text": [
      "2\n"
     ]
    }
   ],
   "source": [
    "print(\"abcdef\".find(\"cd\"))"
   ]
  },
  {
   "cell_type": "markdown",
   "id": "a3d3fd1c",
   "metadata": {},
   "source": [
    "14. Suppose t = (1, 2, 4, 3), which of the following is incorrect?\n",
    "\n",
    "a) print(t[3])\n",
    "\n",
    "b) t[3] = 45\n",
    "\n",
    "c) print(max(t))\n",
    "\n",
    "d) print(len(t))\n",
    "\n",
    "Ans: t[3] = 45"
   ]
  },
  {
   "cell_type": "code",
   "execution_count": 19,
   "id": "4903a720",
   "metadata": {},
   "outputs": [
    {
     "name": "stdout",
     "output_type": "stream",
     "text": [
      "4\n"
     ]
    },
    {
     "ename": "TypeError",
     "evalue": "'tuple' object does not support item assignment",
     "output_type": "error",
     "traceback": [
      "\u001b[0;31m---------------------------------------------------------------------------\u001b[0m",
      "\u001b[0;31mTypeError\u001b[0m                                 Traceback (most recent call last)",
      "Cell \u001b[0;32mIn[19], line 3\u001b[0m\n\u001b[1;32m      1\u001b[0m t\u001b[38;5;241m=\u001b[39m(\u001b[38;5;241m1\u001b[39m,\u001b[38;5;241m2\u001b[39m,\u001b[38;5;241m3\u001b[39m,\u001b[38;5;241m4\u001b[39m)\n\u001b[1;32m      2\u001b[0m \u001b[38;5;28mprint\u001b[39m(t[\u001b[38;5;241m3\u001b[39m])\n\u001b[0;32m----> 3\u001b[0m t[\u001b[38;5;241m3\u001b[39m]\u001b[38;5;241m=\u001b[39m\u001b[38;5;241m45\u001b[39m\n\u001b[1;32m      4\u001b[0m \u001b[38;5;28mprint\u001b[39m(\u001b[38;5;28mmax\u001b[39m(t))\n\u001b[1;32m      5\u001b[0m \u001b[38;5;28mprint\u001b[39m(\u001b[38;5;28mlen\u001b[39m(t))\n",
      "\u001b[0;31mTypeError\u001b[0m: 'tuple' object does not support item assignment"
     ]
    }
   ],
   "source": [
    "t=(1,2,3,4)\n",
    "print(t[3])\n",
    "t[3]=45\n",
    "print(max(t))\n",
    "print(len(t))"
   ]
  },
  {
   "cell_type": "code",
   "execution_count": 20,
   "id": "e0785094",
   "metadata": {},
   "outputs": [
    {
     "name": "stdout",
     "output_type": "stream",
     "text": [
      "4\n",
      "4\n",
      "4\n"
     ]
    }
   ],
   "source": [
    "t=(1,2,3,4)\n",
    "print(t[3])\n",
    "print(max(t))\n",
    "print(len(t))"
   ]
  },
  {
   "cell_type": "markdown",
   "id": "e97bc60b",
   "metadata": {},
   "source": [
    "15. What is the output of the following piece of code when executed in Python shell?\n",
    "\n",
    "a=(\"Check\")*3\n",
    "\n",
    "print(a)\n",
    "\n",
    "a) (‘Check’,’Check’,’Check’)\n",
    "\n",
    "b) * Operator not valid for tuples\n",
    "\n",
    "c) ‘CheckCheckCheck’\n",
    "\n",
    "d) Syntax error\n",
    "\n",
    "Ans: c) ‘CheckCheckCheck’"
   ]
  },
  {
   "cell_type": "code",
   "execution_count": 21,
   "id": "72c7c841",
   "metadata": {},
   "outputs": [
    {
     "name": "stdout",
     "output_type": "stream",
     "text": [
      "CheckCheckCheck\n"
     ]
    }
   ],
   "source": [
    "a=(\"Check\")*3\n",
    "print()"
   ]
  },
  {
   "cell_type": "markdown",
   "id": "ad9d5c65",
   "metadata": {},
   "source": [
    "16. What will be the output?\n",
    "\n",
    "my_tuple=(1, 2, 3, 4)\n",
    "\n",
    "my_tuple.append((5, 6, 7))\n",
    "\n",
    "print len(my_tuple)\n",
    "\n",
    "a) 1\n",
    "\n",
    "b) 2\n",
    "\n",
    "c) 5\n",
    "\n",
    "d) Error\n",
    "\n",
    "Ans: d) Error"
   ]
  },
  {
   "cell_type": "code",
   "execution_count": 22,
   "id": "2bd5cd60",
   "metadata": {},
   "outputs": [
    {
     "ename": "SyntaxError",
     "evalue": "Missing parentheses in call to 'print'. Did you mean print(...)? (3553330677.py, line 3)",
     "output_type": "error",
     "traceback": [
      "\u001b[0;36m  Cell \u001b[0;32mIn[22], line 3\u001b[0;36m\u001b[0m\n\u001b[0;31m    print len(my_tuple)\u001b[0m\n\u001b[0m    ^\u001b[0m\n\u001b[0;31mSyntaxError\u001b[0m\u001b[0;31m:\u001b[0m Missing parentheses in call to 'print'. Did you mean print(...)?\n"
     ]
    }
   ],
   "source": [
    "my_tuple=(1,2,3,4)\n",
    "my_tuple.append((5,6,7))\n",
    "print len(my_tuple)"
   ]
  },
  {
   "cell_type": "markdown",
   "id": "46cb4335",
   "metadata": {},
   "source": [
    "17. What is the output of the following code?\n",
    "\n",
    "a=(1,2,3,4)\n",
    "\n",
    "print(del(a[2]))\n",
    "\n",
    "a) Now, a=(1,2,4)\n",
    "\n",
    "b) Now, a=(1,3,4)\n",
    "\n",
    "c) Now a=(3,4)\n",
    "\n",
    "d) Error as tuple is immutable\n",
    "\n",
    "Ans: d) Error as tuple is immutable"
   ]
  },
  {
   "cell_type": "code",
   "execution_count": 23,
   "id": "a1803156",
   "metadata": {},
   "outputs": [
    {
     "ename": "SyntaxError",
     "evalue": "invalid syntax (4222193098.py, line 2)",
     "output_type": "error",
     "traceback": [
      "\u001b[0;36m  Cell \u001b[0;32mIn[23], line 2\u001b[0;36m\u001b[0m\n\u001b[0;31m    print(del(a[2]))\u001b[0m\n\u001b[0m          ^\u001b[0m\n\u001b[0;31mSyntaxError\u001b[0m\u001b[0;31m:\u001b[0m invalid syntax\n"
     ]
    }
   ],
   "source": [
    "a=(1,2,3,4)\n",
    "print(del(a[2]))"
   ]
  },
  {
   "cell_type": "code",
   "execution_count": null,
   "id": "c92246c8",
   "metadata": {},
   "outputs": [],
   "source": []
  }
 ],
 "metadata": {
  "kernelspec": {
   "display_name": "Python 3 (ipykernel)",
   "language": "python",
   "name": "python3"
  },
  "language_info": {
   "codemirror_mode": {
    "name": "ipython",
    "version": 3
   },
   "file_extension": ".py",
   "mimetype": "text/x-python",
   "name": "python",
   "nbconvert_exporter": "python",
   "pygments_lexer": "ipython3",
   "version": "3.10.9"
  }
 },
 "nbformat": 4,
 "nbformat_minor": 5
}
