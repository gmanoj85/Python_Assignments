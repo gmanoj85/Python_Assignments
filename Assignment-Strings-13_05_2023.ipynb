{
 "cells": [
  {
   "cell_type": "code",
   "execution_count": 2,
   "id": "4f4a9116",
   "metadata": {},
   "outputs": [
    {
     "name": "stdout",
     "output_type": "stream",
     "text": [
      "A string is a data structure in python that represents a sequence of characters.\n",
      "<class 'str'>\n"
     ]
    }
   ],
   "source": [
    "st='A string is a data structure in python that represents a sequence of characters.'\n",
    "print(st)\n",
    "print(type(st))"
   ]
  },
  {
   "cell_type": "code",
   "execution_count": 3,
   "id": "7c124529",
   "metadata": {},
   "outputs": [
    {
     "name": "stdout",
     "output_type": "stream",
     "text": [
      "80\n",
      "7\n"
     ]
    }
   ],
   "source": [
    "print(len(st))\n",
    "print(st.count('s'))"
   ]
  },
  {
   "cell_type": "code",
   "execution_count": 4,
   "id": "480830bf",
   "metadata": {},
   "outputs": [
    {
     "name": "stdout",
     "output_type": "stream",
     "text": [
      "y\n",
      " \n"
     ]
    }
   ],
   "source": [
    "print(max(st))\n",
    "print(min(st))"
   ]
  },
  {
   "cell_type": "code",
   "execution_count": 6,
   "id": "4a013265",
   "metadata": {},
   "outputs": [
    {
     "name": "stdout",
     "output_type": "stream",
     "text": [
      "2\n"
     ]
    }
   ],
   "source": [
    "print(st.index('s'))"
   ]
  },
  {
   "cell_type": "code",
   "execution_count": 7,
   "id": "3e40eed9",
   "metadata": {},
   "outputs": [
    {
     "name": "stdout",
     "output_type": "stream",
     "text": [
      "A string is a data structure in python that represents a sequence of characters. It is an immutable data type, meaning that once you have created a string, you cannot change it.\n"
     ]
    }
   ],
   "source": [
    "#Concatenation\n",
    "st='A string is a data structure in python that represents a sequence of characters.'\n",
    "st1=' It is an immutable data type, meaning that once you have created a string, you cannot change it.'\n",
    "print(st+st1)"
   ]
  },
  {
   "cell_type": "code",
   "execution_count": 8,
   "id": "d9082848",
   "metadata": {},
   "outputs": [
    {
     "name": "stdout",
     "output_type": "stream",
     "text": [
      "ing is a data struct\n",
      "A string is a data structure in pyt\n",
      "ta structure in python that represents a sequence of characters.\n",
      "A string is a data structure in python that represents a sequence of characters\n",
      ".sretcarahc fo ecneuqes a stneserper taht nohtyp ni erutcurts atad a si gnirts A\n",
      "Atniaa rtenyotteen sucocrts\n"
     ]
    }
   ],
   "source": [
    "#Slicing\n",
    "st='A string is a data structure in python that represents a sequence of characters.'\n",
    "print(st[5:25])\n",
    "print(st[:35])\n",
    "print(st[16:])\n",
    "print(st[:-1])\n",
    "print(st[::-1])\n",
    "print(st[0:80:3])"
   ]
  },
  {
   "cell_type": "code",
   "execution_count": 9,
   "id": "12d364e2",
   "metadata": {},
   "outputs": [
    {
     "name": "stdout",
     "output_type": "stream",
     "text": [
      "A STRING IS A DATA STRUCTURE IN PYTHON THAT REPRESENTS A SEQUENCE OF CHARACTERS.\n"
     ]
    }
   ],
   "source": [
    "st='A string is a data structure in python that represents a sequence of characters.'\n",
    "print(st.upper())"
   ]
  },
  {
   "cell_type": "code",
   "execution_count": 10,
   "id": "b07ec793",
   "metadata": {},
   "outputs": [
    {
     "name": "stdout",
     "output_type": "stream",
     "text": [
      "True\n"
     ]
    }
   ],
   "source": [
    "st2='A STRING IS A DATA STRUCTURE IN PYTHON THAT REPRESENTS A SEQUENCE OF CHARACTERS.'\n",
    "print(st2.isupper())"
   ]
  },
  {
   "cell_type": "code",
   "execution_count": 11,
   "id": "0bc658d1",
   "metadata": {},
   "outputs": [
    {
     "name": "stdout",
     "output_type": "stream",
     "text": [
      "False\n"
     ]
    }
   ],
   "source": [
    "st='A string is a data structure in python that represents a sequence of characters.'\n",
    "print(st.islower())"
   ]
  },
  {
   "cell_type": "code",
   "execution_count": 12,
   "id": "b463505b",
   "metadata": {},
   "outputs": [
    {
     "name": "stdout",
     "output_type": "stream",
     "text": [
      "a string is a data structure in python that represents a sequence of characters.\n"
     ]
    }
   ],
   "source": [
    "print(st.lower())"
   ]
  },
  {
   "cell_type": "code",
   "execution_count": 14,
   "id": "951e2561",
   "metadata": {},
   "outputs": [
    {
     "name": "stdout",
     "output_type": "stream",
     "text": [
      "True\n"
     ]
    }
   ],
   "source": [
    "st3='a string is a data structure in python that represents a sequence of characters.'\n",
    "print(st3.islower())"
   ]
  },
  {
   "cell_type": "code",
   "execution_count": 15,
   "id": "ecfde963",
   "metadata": {},
   "outputs": [
    {
     "name": "stdout",
     "output_type": "stream",
     "text": [
      "A string is a data structure in python that represents a sequence of characters.\n"
     ]
    }
   ],
   "source": [
    "print(st3.capitalize())"
   ]
  },
  {
   "cell_type": "code",
   "execution_count": 16,
   "id": "d9600e45",
   "metadata": {},
   "outputs": [
    {
     "name": "stdout",
     "output_type": "stream",
     "text": [
      "A String Is A Data Structure In Python That Represents A Sequence Of Characters.\n"
     ]
    }
   ],
   "source": [
    "print(st3.title())"
   ]
  },
  {
   "cell_type": "code",
   "execution_count": 18,
   "id": "68aeea24",
   "metadata": {},
   "outputs": [
    {
     "name": "stdout",
     "output_type": "stream",
     "text": [
      "False\n"
     ]
    }
   ],
   "source": [
    "st4='A String Is A Data Structure In Python That Represents A Sequence Of Characters.'\n",
    "print(st4.isalpha())"
   ]
  },
  {
   "cell_type": "code",
   "execution_count": 20,
   "id": "1219da8e",
   "metadata": {},
   "outputs": [
    {
     "name": "stdout",
     "output_type": "stream",
     "text": [
      "False\n"
     ]
    }
   ],
   "source": [
    "st5='A String Is A Data Structure In Python That Represents A Sequence'\n",
    "print(st5.isalpha())"
   ]
  },
  {
   "cell_type": "code",
   "execution_count": 21,
   "id": "c500b183",
   "metadata": {
    "scrolled": true
   },
   "outputs": [
    {
     "name": "stdout",
     "output_type": "stream",
     "text": [
      "False\n"
     ]
    }
   ],
   "source": [
    "st5='A String Is A Data Structure In Python That Represents A Sequence'\n",
    "print(st5.isalnum())"
   ]
  },
  {
   "cell_type": "code",
   "execution_count": 23,
   "id": "bf95a77f",
   "metadata": {},
   "outputs": [
    {
     "name": "stdout",
     "output_type": "stream",
     "text": [
      "True\n"
     ]
    }
   ],
   "source": [
    "st6='Structure'\n",
    "print(st6.isalpha())"
   ]
  },
  {
   "cell_type": "code",
   "execution_count": 24,
   "id": "33b9a91d",
   "metadata": {},
   "outputs": [
    {
     "name": "stdout",
     "output_type": "stream",
     "text": [
      "True\n"
     ]
    }
   ],
   "source": [
    "st6='Structure6'\n",
    "print(st6.isalnum())"
   ]
  },
  {
   "cell_type": "code",
   "execution_count": 29,
   "id": "85249ccd",
   "metadata": {},
   "outputs": [
    {
     "name": "stdout",
     "output_type": "stream",
     "text": [
      "80\n",
      "##########A String Is A Data Structure In Python That Represents A Sequence Of Characters.##########\n",
      "&&&&&&&&&&&&&&&&&&&&A String Is A Data Structure In Python That Represents A Sequence Of Characters.\n",
      "A String Is A Data Structure In Python That Represents A Sequence Of Characters.^^^^^^^^^^^^^^^^^^^^\n"
     ]
    }
   ],
   "source": [
    "st4='A String Is A Data Structure In Python That Represents A Sequence Of Characters.'\n",
    "print(len(st4))\n",
    "print(st4.center(100, '#'))\n",
    "print(st4.rjust(100, '&'))\n",
    "print(st4.ljust(100, '^'))"
   ]
  },
  {
   "cell_type": "code",
   "execution_count": 32,
   "id": "39e17104",
   "metadata": {},
   "outputs": [
    {
     "name": "stdout",
     "output_type": "stream",
     "text": [
      "19\n",
      "77\n"
     ]
    }
   ],
   "source": [
    "print(st4.find('Stru'))\n",
    "print(st4.find('rs'))"
   ]
  },
  {
   "cell_type": "code",
   "execution_count": 35,
   "id": "29eca437",
   "metadata": {},
   "outputs": [
    {
     "name": "stdout",
     "output_type": "stream",
     "text": [
      "False\n",
      "True\n",
      "False\n",
      "True\n"
     ]
    }
   ],
   "source": [
    "print(st4.startswith('st'))\n",
    "print(st4.startswith('A '))\n",
    "print(st4.endswith('ce'))\n",
    "print(st4.endswith('s.'))"
   ]
  },
  {
   "cell_type": "code",
   "execution_count": 36,
   "id": "eddbc55c",
   "metadata": {},
   "outputs": [
    {
     "name": "stdout",
     "output_type": "stream",
     "text": [
      "a sTRING iS a dATA sTRUCTURE iN pYTHON tHAT rEPRESENTS a sEQUENCE oF cHARACTERS.\n"
     ]
    }
   ],
   "source": [
    "print(st4.swapcase())"
   ]
  },
  {
   "cell_type": "code",
   "execution_count": 42,
   "id": "19ff646e",
   "metadata": {},
   "outputs": [
    {
     "name": "stdout",
     "output_type": "stream",
     "text": [
      "['A', 'String', 'is', 'a', 'data', 'structure', 'in', 'python']\n"
     ]
    }
   ],
   "source": [
    "#Split\n",
    "st7='A,String,is,a,data,structure,in,python'\n",
    "print(st7.split(','))"
   ]
  },
  {
   "cell_type": "code",
   "execution_count": 43,
   "id": "136aa965",
   "metadata": {},
   "outputs": [
    {
     "name": "stdout",
     "output_type": "stream",
     "text": [
      "A String is a data structure in python\n"
     ]
    }
   ],
   "source": [
    "#join\n",
    "st7=['A', 'String', 'is', 'a', 'data', 'structure', 'in', 'python']\n",
    "print(' '.join(st7))"
   ]
  },
  {
   "cell_type": "code",
   "execution_count": 44,
   "id": "b23a0c1e",
   "metadata": {},
   "outputs": [
    {
     "name": "stdout",
     "output_type": "stream",
     "text": [
      "[(0, 'A'), (1, ' '), (2, 'S'), (3, 't'), (4, 'r'), (5, 'i'), (6, 'n'), (7, 'g'), (8, ' '), (9, 'i'), (10, 's'), (11, ' '), (12, 'a'), (13, ' '), (14, 'd'), (15, 'a'), (16, 't'), (17, 'a'), (18, ' '), (19, 's'), (20, 't'), (21, 'r'), (22, 'u'), (23, 'c'), (24, 't'), (25, 'u'), (26, 'r'), (27, 'e'), (28, ' '), (29, 'i'), (30, 'n'), (31, ' '), (32, 'p'), (33, 'y'), (34, 't'), (35, 'h'), (36, 'o'), (37, 'n')]\n"
     ]
    }
   ],
   "source": [
    "#enumerate\n",
    "st8='A String is a data structure in python'\n",
    "print(list(enumerate(st8)))"
   ]
  },
  {
   "cell_type": "code",
   "execution_count": null,
   "id": "922cb0a1",
   "metadata": {},
   "outputs": [],
   "source": []
  }
 ],
 "metadata": {
  "kernelspec": {
   "display_name": "Python 3 (ipykernel)",
   "language": "python",
   "name": "python3"
  },
  "language_info": {
   "codemirror_mode": {
    "name": "ipython",
    "version": 3
   },
   "file_extension": ".py",
   "mimetype": "text/x-python",
   "name": "python",
   "nbconvert_exporter": "python",
   "pygments_lexer": "ipython3",
   "version": "3.10.9"
  }
 },
 "nbformat": 4,
 "nbformat_minor": 5
}
