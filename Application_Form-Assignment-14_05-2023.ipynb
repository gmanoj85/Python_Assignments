{
 "cells": [
  {
   "cell_type": "code",
   "execution_count": 3,
   "id": "2c53dafa",
   "metadata": {},
   "outputs": [
    {
     "name": "stdout",
     "output_type": "stream",
     "text": [
      "Enter Your Name         :Narasimhan. G\n",
      "Enter Your Age          :37\n",
      "Enter Your Degree       :MBA\n",
      "Enter Your Native Place :Erode\n",
      "Enter Your Role         :Release Manager\n"
     ]
    }
   ],
   "source": [
    "name=input('Enter Your Name         :')\n",
    "age=int(input('Enter Your Age          :'))\n",
    "degree=input('Enter Your Degree       :')\n",
    "native=input('Enter Your Native Place :')\n",
    "role=input('Enter Your Role         :')"
   ]
  },
  {
   "cell_type": "code",
   "execution_count": 9,
   "id": "f8806e74",
   "metadata": {},
   "outputs": [
    {
     "name": "stdout",
     "output_type": "stream",
     "text": [
      "My Name is Narasimhan. G, 37 years old and have completed MBA. My Native places is Erode. I am working as Release Manager. \n"
     ]
    }
   ],
   "source": [
    "print(f'My Name is {name}, {age} years old and have completed {degree}. My Native places is {native}. I am working as {role}. ')"
   ]
  },
  {
   "cell_type": "code",
   "execution_count": null,
   "id": "849952e4",
   "metadata": {},
   "outputs": [],
   "source": []
  }
 ],
 "metadata": {
  "kernelspec": {
   "display_name": "Python 3 (ipykernel)",
   "language": "python",
   "name": "python3"
  },
  "language_info": {
   "codemirror_mode": {
    "name": "ipython",
    "version": 3
   },
   "file_extension": ".py",
   "mimetype": "text/x-python",
   "name": "python",
   "nbconvert_exporter": "python",
   "pygments_lexer": "ipython3",
   "version": "3.10.9"
  }
 },
 "nbformat": 4,
 "nbformat_minor": 5
}
