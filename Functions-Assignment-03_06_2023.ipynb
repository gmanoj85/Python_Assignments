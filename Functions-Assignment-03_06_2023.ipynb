{
 "cells": [
  {
   "cell_type": "code",
   "execution_count": null,
   "id": "97461510",
   "metadata": {},
   "outputs": [],
   "source": [
    "Write a program to replace 'there' word with 'their' word ina string"
   ]
  },
  {
   "cell_type": "code",
   "execution_count": 1,
   "id": "12767ebf",
   "metadata": {},
   "outputs": [
    {
     "name": "stdout",
     "output_type": "stream",
     "text": [
      "Enter the Numbers : -1 -4\n",
      "The Maximum Number is -1\n"
     ]
    }
   ],
   "source": [
    "def max(numbers):\n",
    "    max_num = numbers[0]\n",
    "    for num in numbers:\n",
    "        if num > max_num:\n",
    "            max_num = num\n",
    "    return max_num\n",
    "\n",
    "y=input('Enter the Numbers : ')\n",
    "x=y.replace(',',' ').replace(' ', ' ').split()\n",
    "x=[int(num) for num in x]\n",
    "\n",
    "print(f'The Maximum Number is {max(x)}')"
   ]
  },
  {
   "cell_type": "code",
   "execution_count": 7,
   "id": "d1aa2d69",
   "metadata": {},
   "outputs": [
    {
     "name": "stdout",
     "output_type": "stream",
     "text": [
      "Input String is : on there track\n",
      "Output Sting is : on their track\n"
     ]
    }
   ],
   "source": [
    "def rep_word(string):\n",
    "    words = string.split()\n",
    "    for i in range(len(words)):\n",
    "        if words[i] == 'there':\n",
    "            words[i] = 'their'\n",
    "    updated_string = ' '.join(words)\n",
    "    \n",
    "    return updated_string\n",
    "\n",
    "sent = 'on there track'\n",
    "updated_sent = rep_word(sent)\n",
    "print(f'Input String is :', sent)\n",
    "print(f'Output Sting is :', updated_sent)"
   ]
  },
  {
   "cell_type": "code",
   "execution_count": null,
   "id": "7ddc13f4",
   "metadata": {},
   "outputs": [],
   "source": [
    "Write a program to take numbers as input and Print all string combination from given numbers.\n",
    "Input = 152, output = AEB, OB"
   ]
  },
  {
   "cell_type": "code",
   "execution_count": 9,
   "id": "93c7a937",
   "metadata": {},
   "outputs": [
    {
     "name": "stdout",
     "output_type": "stream",
     "text": [
      "Enter the Number : 152\n",
      "Input Number :  152\n",
      "Output Combinations :  AEB, OB\n"
     ]
    }
   ],
   "source": [
    "def get_string_comb(number):\n",
    "    digit_mapping = {'1': 'A', '2': 'B', '3': 'C', '4': 'D', '5': 'E', '6': 'F', '7': 'G', '8': 'H', '9': 'I', '10': 'Ω',\n",
    "                     '11': 'K', '12': 'L', '13': 'M', '14': 'N', '15': 'O', '16': 'P', '17': 'Q', '18': 'R', '19': 'S',\n",
    "                     '20': 'T', '21': 'U', '22': 'V', '23': 'W', '24': 'X', '25': 'Y', '26': 'Z'}\n",
    "\n",
    "    comb = []\n",
    "    digits = str(number)\n",
    "\n",
    "    def gen_comb(index, current_comb):\n",
    "        if index >=len(digits):\n",
    "            comb.append(current_comb)\n",
    "            return\n",
    "    \n",
    "        if digits[index] in digit_mapping:\n",
    "            gen_comb(index + 1, current_comb + digit_mapping[digits[index]])\n",
    "        \n",
    "        if index +1 < len(digits) and digits[index:index +2] in digit_mapping:\n",
    "            gen_comb(index + 2, current_comb + digit_mapping[digits[index:index + 2]])\n",
    "        \n",
    "    gen_comb(0, '')\n",
    "    \n",
    "    return comb\n",
    "\n",
    "num = input('Enter the Number : ')\n",
    "output_comb = get_string_comb(num)\n",
    "\n",
    "print('Input Number : ', num)\n",
    "print('Output Combinations : ', ', '.join(output_comb))"
   ]
  },
  {
   "cell_type": "code",
   "execution_count": null,
   "id": "691bb9fa",
   "metadata": {},
   "outputs": [],
   "source": [
    "write a function number_cardinality that takes an integer my_num as parameter and returns the following.\n",
    "1. Zero id the number ends in a 0.\n",
    "2. five if the number ends in a 5.\n",
    "3. even if the number is even(divisible by 2) AND does not end with a 0.\n",
    "4. odd if the number is odd(not divisible by 2) And does not end with a 5.\n",
    "\n",
    "please make sure your return string is exactly as above (all lowercase letters).\n",
    "\n",
    "example:\n",
    "input:10\n",
    "output:Zero\n",
    "\n",
    "input:8\n",
    "output:even\n",
    "\n",
    "input:15\n",
    "output:five\n",
    "\n",
    "input:9\n",
    "output: odd"
   ]
  },
  {
   "cell_type": "code",
   "execution_count": 10,
   "id": "e0636f45",
   "metadata": {},
   "outputs": [
    {
     "name": "stdout",
     "output_type": "stream",
     "text": [
      "Enter the Number : 10\n",
      "Output : zero\n"
     ]
    }
   ],
   "source": [
    "def number_cardinality(my_num):\n",
    "    if my_num % 10 == 0:\n",
    "        return 'zero'\n",
    "    elif my_num % 10 == 5:\n",
    "        return 'five'\n",
    "    elif my_num % 2 == 0:\n",
    "        return 'even'\n",
    "    else:\n",
    "        return 'odd'\n",
    "    \n",
    "num=int(input('Enter the Number : '))\n",
    "print(f'Output : {number_cardinality(num)}')"
   ]
  },
  {
   "cell_type": "code",
   "execution_count": 11,
   "id": "dc7b8f47",
   "metadata": {},
   "outputs": [
    {
     "name": "stdout",
     "output_type": "stream",
     "text": [
      "Enter the Number : 8\n",
      "Output : even\n"
     ]
    }
   ],
   "source": [
    "def number_cardinality(my_num):\n",
    "    if my_num % 10 == 0:\n",
    "        return 'zero'\n",
    "    elif my_num % 10 == 5:\n",
    "        return 'five'\n",
    "    elif my_num % 2 == 0:\n",
    "        return 'even'\n",
    "    else:\n",
    "        return 'odd'\n",
    "    \n",
    "num=int(input('Enter the Number : '))\n",
    "print(f'Output : {number_cardinality(num)}')"
   ]
  },
  {
   "cell_type": "code",
   "execution_count": 12,
   "id": "6d988443",
   "metadata": {},
   "outputs": [
    {
     "name": "stdout",
     "output_type": "stream",
     "text": [
      "Enter the Number : 15\n",
      "Output : five\n"
     ]
    }
   ],
   "source": [
    "def number_cardinality(my_num):\n",
    "    if my_num % 10 == 0:\n",
    "        return 'zero'\n",
    "    elif my_num % 10 == 5:\n",
    "        return 'five'\n",
    "    elif my_num % 2 == 0:\n",
    "        return 'even'\n",
    "    else:\n",
    "        return 'odd'\n",
    "    \n",
    "num=int(input('Enter the Number : '))\n",
    "print(f'Output : {number_cardinality(num)}')"
   ]
  },
  {
   "cell_type": "code",
   "execution_count": 13,
   "id": "accc3834",
   "metadata": {},
   "outputs": [
    {
     "name": "stdout",
     "output_type": "stream",
     "text": [
      "Enter the Number : 9\n",
      "Output : odd\n"
     ]
    }
   ],
   "source": [
    "def number_cardinality(my_num):\n",
    "    if my_num % 10 == 0:\n",
    "        return 'zero'\n",
    "    elif my_num % 10 == 5:\n",
    "        return 'five'\n",
    "    elif my_num % 2 == 0:\n",
    "        return 'even'\n",
    "    else:\n",
    "        return 'odd'\n",
    "    \n",
    "num=int(input('Enter the Number : '))\n",
    "print(f'Output : {number_cardinality(num)}')"
   ]
  },
  {
   "cell_type": "code",
   "execution_count": null,
   "id": "fcbeef7c",
   "metadata": {},
   "outputs": [],
   "source": [
    "Write a program to find the factorial of given number.\n",
    "Input = 5, Output = 120, Explanation : 5! = 5*4*3*2*1 = 120.\n",
    "Input = 3, Output = 6,   Explanation : 3! = 3*2*1 = 6"
   ]
  },
  {
   "cell_type": "code",
   "execution_count": 16,
   "id": "b9925c9b",
   "metadata": {},
   "outputs": [
    {
     "name": "stdout",
     "output_type": "stream",
     "text": [
      "Enter the Number : 5\n",
      "Input Number is 5\n",
      "Explanation : 5! = 1 * 2 * 3 * 4 * 5 = 120\n",
      "Factioral of 5 is 120\n"
     ]
    }
   ],
   "source": [
    "def factorial(number):\n",
    "    val = 1\n",
    "    explanation = f'{number}! = '\n",
    "    for i in range(1, number + 1):\n",
    "        val *= i\n",
    "        if i > 1:\n",
    "            explanation += ' * '\n",
    "        explanation += str(i)\n",
    "    explanation += f' = {val}'    \n",
    "    return val, explanation\n",
    "\n",
    "num = int(input('Enter the Number : '))\n",
    "fact, explanation = factorial(num)\n",
    "\n",
    "print(f'Input Number is {num}')\n",
    "print(f'Explanation : {explanation}')\n",
    "print(f'Factioral of {num} is {fact}')"
   ]
  },
  {
   "cell_type": "code",
   "execution_count": 17,
   "id": "e054e9a0",
   "metadata": {},
   "outputs": [
    {
     "name": "stdout",
     "output_type": "stream",
     "text": [
      "Enter the Number : 3\n",
      "Input Number is 3\n",
      "Explanation : 3! = 1 * 2 * 3 = 6\n",
      "Factioral of 3 is 6\n"
     ]
    }
   ],
   "source": [
    "def factorial(number):\n",
    "    val = 1\n",
    "    explanation = f'{number}! = '\n",
    "    for i in range(1, number + 1):\n",
    "        val *= i\n",
    "        if i > 1:\n",
    "            explanation += ' * '\n",
    "        explanation += str(i)\n",
    "    explanation += f' = {val}'    \n",
    "    return val, explanation\n",
    "\n",
    "num = int(input('Enter the Number : '))\n",
    "fact, explanation = factorial(num)\n",
    "\n",
    "print(f'Input Number is {num}')\n",
    "print(f'Explanation : {explanation}')\n",
    "print(f'Factioral of {num} is {fact}')"
   ]
  },
  {
   "cell_type": "code",
   "execution_count": null,
   "id": "f4d50d44",
   "metadata": {},
   "outputs": [],
   "source": [
    "Write a program to reverse the string and count the length of string\n",
    "\n",
    "Input1: an array of numbers\n",
    "Input2: length of the array(input1)\n",
    "Output: return an array in reverse order.\n",
    "\n",
    "Example:\n",
    "Input1:(1,2,3)\n",
    "Input1:3\n",
    "Output:(3,2,1)"
   ]
  },
  {
   "cell_type": "code",
   "execution_count": 18,
   "id": "0d970bf9",
   "metadata": {},
   "outputs": [
    {
     "name": "stdout",
     "output_type": "stream",
     "text": [
      "Enter an Array of Numbers : 1 2,3\n",
      "Orignal Array is [1, 2, 3]\n",
      "Reversed Array is [3, 2, 1]\n",
      "Legth of the Array is 3\n"
     ]
    }
   ],
   "source": [
    "def reverse_array(arr):\n",
    "    return arr[::-1]\n",
    "def count_len(arr):\n",
    "    return len(arr)\n",
    "\n",
    "y=input('Enter an Array of Numbers : ')\n",
    "x=y.replace(',',' ').replace(' ', ' ').split()\n",
    "x=[int(num) for num in x]\n",
    "\n",
    "reversed_array = reverse_array(x)\n",
    "array_len = count_len(x)\n",
    "\n",
    "print(f'Orignal Array is {x}')\n",
    "print(f'Reversed Array is {reversed_array}')\n",
    "print(f'Legth of the Array is {array_len}')"
   ]
  },
  {
   "cell_type": "code",
   "execution_count": null,
   "id": "34dda9ec",
   "metadata": {},
   "outputs": [],
   "source": []
  }
 ],
 "metadata": {
  "kernelspec": {
   "display_name": "Python 3 (ipykernel)",
   "language": "python",
   "name": "python3"
  },
  "language_info": {
   "codemirror_mode": {
    "name": "ipython",
    "version": 3
   },
   "file_extension": ".py",
   "mimetype": "text/x-python",
   "name": "python",
   "nbconvert_exporter": "python",
   "pygments_lexer": "ipython3",
   "version": "3.10.9"
  }
 },
 "nbformat": 4,
 "nbformat_minor": 5
}
